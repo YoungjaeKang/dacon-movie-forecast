{
 "cells": [
  {
   "cell_type": "code",
   "execution_count": 1,
   "id": "d5d1a7b0",
   "metadata": {
    "ExecuteTime": {
     "end_time": "2023-01-14T02:49:11.991887Z",
     "start_time": "2023-01-14T02:49:06.245574Z"
    }
   },
   "outputs": [],
   "source": [
    "import pandas as pd\n",
    "from sklearn.ensemble import RandomForestRegressor\n",
    "\n",
    "train = pd.read_csv('data/movies_train.csv')\n",
    "test = pd.read_csv('data/movies_test.csv')"
   ]
  },
  {
   "cell_type": "code",
   "execution_count": 2,
   "id": "d0011c3b",
   "metadata": {
    "ExecuteTime": {
     "end_time": "2023-01-14T02:58:39.601765Z",
     "start_time": "2023-01-14T02:58:39.572338Z"
    }
   },
   "outputs": [
    {
     "data": {
      "text/plain": [
       "CJ 엔터테인먼트        54\n",
       "롯데엔터테인먼트         52\n",
       "(주)NEW           30\n",
       "(주)마운틴픽쳐스        29\n",
       "(주)쇼박스           26\n",
       "                 ..\n",
       "OAL(올)            1\n",
       "(주)에이원 엔터테인먼트     1\n",
       "(주)콘텐츠 윙          1\n",
       "위더스필름             1\n",
       "퍼스트런              1\n",
       "Name: distributor, Length: 169, dtype: int64"
      ]
     },
     "execution_count": 2,
     "metadata": {},
     "output_type": "execute_result"
    }
   ],
   "source": [
    "# 결측치가 많은 데이터 제거\n",
    "train = train.drop(['dir_prev_bfnum'],axis = 1)\n",
    "test =  test.drop(['dir_prev_bfnum'],axis = 1)\n",
    "\n",
    "# 감독명 : 너무 다양해서 제거\n",
    "train = train.drop(['director'],axis = 1)\n",
    "test = test.drop(['director'],axis = 1)\n",
    "\n",
    "# 제목 : 의미가 없기 때문에 제거\n",
    "train = train.drop(['title'],axis= 1)\n",
    "test = test.drop(['title'],axis= 1)"
   ]
  },
  {
   "cell_type": "code",
   "execution_count": null,
   "id": "d20f137a",
   "metadata": {},
   "outputs": [],
   "source": [
    "train.distributor.value_counts()"
   ]
  },
  {
   "cell_type": "code",
   "execution_count": 3,
   "id": "b8a9d779",
   "metadata": {
    "ExecuteTime": {
     "end_time": "2023-01-14T02:58:59.525290Z",
     "start_time": "2023-01-14T02:58:59.497728Z"
    }
   },
   "outputs": [],
   "source": [
    "# 상위 5개의 배급사를 제외하고 '기타'로처리\n",
    "distributor_list = train.distributor.value_counts()[:5]\n",
    "def func(distributor):\n",
    "    if distributor in distributor_list:\n",
    "        return distributor\n",
    "    else:\n",
    "        return '기타'\n",
    "\n",
    "train['distributor'] = train['distributor'].apply(lambda x : func(x))\n",
    "test['distributor'] = test['distributor'].apply(lambda x : func(x))\n",
    "\n",
    "# 개봉일을 바탕으로 년,월 변수 생성\n",
    "train['년'] = train['release_time'].apply(lambda x: int(x[:4]))\n",
    "train['월'] = train['release_time'].apply(lambda x: int(x[5:7]))\n",
    "train =  train.drop(['release_time'],axis = 1)\n",
    "\n",
    "test['년'] = test['release_time'].apply(lambda x: int(x[:4]))\n",
    "test['월'] = test['release_time'].apply(lambda x: int(x[5:7]))\n",
    "test =  test.drop(['release_time'],axis = 1)\n",
    "\n",
    "# 원핫 인코딩\n",
    "train = pd.get_dummies(train)\n",
    "test = pd.get_dummies(test)"
   ]
  },
  {
   "cell_type": "markdown",
   "id": "71e60977",
   "metadata": {},
   "source": [
    "### 모델정의 및 학습"
   ]
  },
  {
   "cell_type": "code",
   "execution_count": 4,
   "id": "a1ee0ed0",
   "metadata": {
    "ExecuteTime": {
     "end_time": "2023-01-15T01:03:42.094840Z",
     "start_time": "2023-01-15T01:03:41.869932Z"
    }
   },
   "outputs": [
    {
     "data": {
      "text/html": [
       "<style>#sk-container-id-1 {color: black;background-color: white;}#sk-container-id-1 pre{padding: 0;}#sk-container-id-1 div.sk-toggleable {background-color: white;}#sk-container-id-1 label.sk-toggleable__label {cursor: pointer;display: block;width: 100%;margin-bottom: 0;padding: 0.3em;box-sizing: border-box;text-align: center;}#sk-container-id-1 label.sk-toggleable__label-arrow:before {content: \"▸\";float: left;margin-right: 0.25em;color: #696969;}#sk-container-id-1 label.sk-toggleable__label-arrow:hover:before {color: black;}#sk-container-id-1 div.sk-estimator:hover label.sk-toggleable__label-arrow:before {color: black;}#sk-container-id-1 div.sk-toggleable__content {max-height: 0;max-width: 0;overflow: hidden;text-align: left;background-color: #f0f8ff;}#sk-container-id-1 div.sk-toggleable__content pre {margin: 0.2em;color: black;border-radius: 0.25em;background-color: #f0f8ff;}#sk-container-id-1 input.sk-toggleable__control:checked~div.sk-toggleable__content {max-height: 200px;max-width: 100%;overflow: auto;}#sk-container-id-1 input.sk-toggleable__control:checked~label.sk-toggleable__label-arrow:before {content: \"▾\";}#sk-container-id-1 div.sk-estimator input.sk-toggleable__control:checked~label.sk-toggleable__label {background-color: #d4ebff;}#sk-container-id-1 div.sk-label input.sk-toggleable__control:checked~label.sk-toggleable__label {background-color: #d4ebff;}#sk-container-id-1 input.sk-hidden--visually {border: 0;clip: rect(1px 1px 1px 1px);clip: rect(1px, 1px, 1px, 1px);height: 1px;margin: -1px;overflow: hidden;padding: 0;position: absolute;width: 1px;}#sk-container-id-1 div.sk-estimator {font-family: monospace;background-color: #f0f8ff;border: 1px dotted black;border-radius: 0.25em;box-sizing: border-box;margin-bottom: 0.5em;}#sk-container-id-1 div.sk-estimator:hover {background-color: #d4ebff;}#sk-container-id-1 div.sk-parallel-item::after {content: \"\";width: 100%;border-bottom: 1px solid gray;flex-grow: 1;}#sk-container-id-1 div.sk-label:hover label.sk-toggleable__label {background-color: #d4ebff;}#sk-container-id-1 div.sk-serial::before {content: \"\";position: absolute;border-left: 1px solid gray;box-sizing: border-box;top: 0;bottom: 0;left: 50%;z-index: 0;}#sk-container-id-1 div.sk-serial {display: flex;flex-direction: column;align-items: center;background-color: white;padding-right: 0.2em;padding-left: 0.2em;position: relative;}#sk-container-id-1 div.sk-item {position: relative;z-index: 1;}#sk-container-id-1 div.sk-parallel {display: flex;align-items: stretch;justify-content: center;background-color: white;position: relative;}#sk-container-id-1 div.sk-item::before, #sk-container-id-1 div.sk-parallel-item::before {content: \"\";position: absolute;border-left: 1px solid gray;box-sizing: border-box;top: 0;bottom: 0;left: 50%;z-index: -1;}#sk-container-id-1 div.sk-parallel-item {display: flex;flex-direction: column;z-index: 1;position: relative;background-color: white;}#sk-container-id-1 div.sk-parallel-item:first-child::after {align-self: flex-end;width: 50%;}#sk-container-id-1 div.sk-parallel-item:last-child::after {align-self: flex-start;width: 50%;}#sk-container-id-1 div.sk-parallel-item:only-child::after {width: 0;}#sk-container-id-1 div.sk-dashed-wrapped {border: 1px dashed gray;margin: 0 0.4em 0.5em 0.4em;box-sizing: border-box;padding-bottom: 0.4em;background-color: white;}#sk-container-id-1 div.sk-label label {font-family: monospace;font-weight: bold;display: inline-block;line-height: 1.2em;}#sk-container-id-1 div.sk-label-container {text-align: center;}#sk-container-id-1 div.sk-container {/* jupyter's `normalize.less` sets `[hidden] { display: none; }` but bootstrap.min.css set `[hidden] { display: none !important; }` so we also need the `!important` here to be able to override the default hidden behavior on the sphinx rendered scikit-learn.org. See: https://github.com/scikit-learn/scikit-learn/issues/21755 */display: inline-block !important;position: relative;}#sk-container-id-1 div.sk-text-repr-fallback {display: none;}</style><div id=\"sk-container-id-1\" class=\"sk-top-container\"><div class=\"sk-text-repr-fallback\"><pre>RandomForestRegressor()</pre><b>In a Jupyter environment, please rerun this cell to show the HTML representation or trust the notebook. <br />On GitHub, the HTML representation is unable to render, please try loading this page with nbviewer.org.</b></div><div class=\"sk-container\" hidden><div class=\"sk-item\"><div class=\"sk-estimator sk-toggleable\"><input class=\"sk-toggleable__control sk-hidden--visually\" id=\"sk-estimator-id-1\" type=\"checkbox\" checked><label for=\"sk-estimator-id-1\" class=\"sk-toggleable__label sk-toggleable__label-arrow\">RandomForestRegressor</label><div class=\"sk-toggleable__content\"><pre>RandomForestRegressor()</pre></div></div></div></div></div>"
      ],
      "text/plain": [
       "RandomForestRegressor()"
      ]
     },
     "execution_count": 4,
     "metadata": {},
     "output_type": "execute_result"
    }
   ],
   "source": [
    "train_x = train.drop(['box_off_num'],axis= 1)\n",
    "train_y = train['box_off_num']\n",
    "\n",
    "model=RandomForestRegressor(n_estimators=100)\n",
    "model.fit(train_x,train_y)"
   ]
  },
  {
   "cell_type": "code",
   "execution_count": 16,
   "id": "0d8b4c90",
   "metadata": {
    "ExecuteTime": {
     "end_time": "2023-01-15T14:06:39.360575Z",
     "start_time": "2023-01-15T14:06:39.337074Z"
    }
   },
   "outputs": [
    {
     "data": {
      "text/html": [
       "<div>\n",
       "<style scoped>\n",
       "    .dataframe tbody tr th:only-of-type {\n",
       "        vertical-align: middle;\n",
       "    }\n",
       "\n",
       "    .dataframe tbody tr th {\n",
       "        vertical-align: top;\n",
       "    }\n",
       "\n",
       "    .dataframe thead th {\n",
       "        text-align: right;\n",
       "    }\n",
       "</style>\n",
       "<table border=\"1\" class=\"dataframe\">\n",
       "  <thead>\n",
       "    <tr style=\"text-align: right;\">\n",
       "      <th></th>\n",
       "      <th>time</th>\n",
       "      <th>dir_prev_num</th>\n",
       "      <th>num_staff</th>\n",
       "      <th>num_actor</th>\n",
       "      <th>년</th>\n",
       "      <th>월</th>\n",
       "      <th>distributor_(주)NEW</th>\n",
       "      <th>distributor_(주)마운틴픽쳐스</th>\n",
       "      <th>distributor_(주)쇼박스</th>\n",
       "      <th>distributor_CJ 엔터테인먼트</th>\n",
       "      <th>...</th>\n",
       "      <th>genre_뮤지컬</th>\n",
       "      <th>genre_미스터리</th>\n",
       "      <th>genre_서스펜스</th>\n",
       "      <th>genre_애니메이션</th>\n",
       "      <th>genre_액션</th>\n",
       "      <th>genre_코미디</th>\n",
       "      <th>screening_rat_12세 관람가</th>\n",
       "      <th>screening_rat_15세 관람가</th>\n",
       "      <th>screening_rat_전체 관람가</th>\n",
       "      <th>screening_rat_청소년 관람불가</th>\n",
       "    </tr>\n",
       "  </thead>\n",
       "  <tbody>\n",
       "    <tr>\n",
       "      <th>0</th>\n",
       "      <td>96</td>\n",
       "      <td>0</td>\n",
       "      <td>91</td>\n",
       "      <td>2</td>\n",
       "      <td>2012</td>\n",
       "      <td>11</td>\n",
       "      <td>0</td>\n",
       "      <td>0</td>\n",
       "      <td>0</td>\n",
       "      <td>0</td>\n",
       "      <td>...</td>\n",
       "      <td>0</td>\n",
       "      <td>0</td>\n",
       "      <td>0</td>\n",
       "      <td>0</td>\n",
       "      <td>1</td>\n",
       "      <td>0</td>\n",
       "      <td>0</td>\n",
       "      <td>0</td>\n",
       "      <td>0</td>\n",
       "      <td>1</td>\n",
       "    </tr>\n",
       "    <tr>\n",
       "      <th>1</th>\n",
       "      <td>130</td>\n",
       "      <td>2</td>\n",
       "      <td>387</td>\n",
       "      <td>3</td>\n",
       "      <td>2015</td>\n",
       "      <td>11</td>\n",
       "      <td>0</td>\n",
       "      <td>0</td>\n",
       "      <td>1</td>\n",
       "      <td>0</td>\n",
       "      <td>...</td>\n",
       "      <td>0</td>\n",
       "      <td>0</td>\n",
       "      <td>0</td>\n",
       "      <td>0</td>\n",
       "      <td>0</td>\n",
       "      <td>0</td>\n",
       "      <td>0</td>\n",
       "      <td>0</td>\n",
       "      <td>0</td>\n",
       "      <td>1</td>\n",
       "    </tr>\n",
       "    <tr>\n",
       "      <th>2</th>\n",
       "      <td>123</td>\n",
       "      <td>4</td>\n",
       "      <td>343</td>\n",
       "      <td>4</td>\n",
       "      <td>2013</td>\n",
       "      <td>6</td>\n",
       "      <td>0</td>\n",
       "      <td>0</td>\n",
       "      <td>1</td>\n",
       "      <td>0</td>\n",
       "      <td>...</td>\n",
       "      <td>0</td>\n",
       "      <td>0</td>\n",
       "      <td>0</td>\n",
       "      <td>0</td>\n",
       "      <td>1</td>\n",
       "      <td>0</td>\n",
       "      <td>0</td>\n",
       "      <td>1</td>\n",
       "      <td>0</td>\n",
       "      <td>0</td>\n",
       "    </tr>\n",
       "    <tr>\n",
       "      <th>3</th>\n",
       "      <td>101</td>\n",
       "      <td>2</td>\n",
       "      <td>20</td>\n",
       "      <td>6</td>\n",
       "      <td>2012</td>\n",
       "      <td>7</td>\n",
       "      <td>1</td>\n",
       "      <td>0</td>\n",
       "      <td>0</td>\n",
       "      <td>0</td>\n",
       "      <td>...</td>\n",
       "      <td>0</td>\n",
       "      <td>0</td>\n",
       "      <td>0</td>\n",
       "      <td>0</td>\n",
       "      <td>0</td>\n",
       "      <td>1</td>\n",
       "      <td>0</td>\n",
       "      <td>0</td>\n",
       "      <td>1</td>\n",
       "      <td>0</td>\n",
       "    </tr>\n",
       "    <tr>\n",
       "      <th>4</th>\n",
       "      <td>108</td>\n",
       "      <td>1</td>\n",
       "      <td>251</td>\n",
       "      <td>2</td>\n",
       "      <td>2010</td>\n",
       "      <td>11</td>\n",
       "      <td>0</td>\n",
       "      <td>0</td>\n",
       "      <td>0</td>\n",
       "      <td>0</td>\n",
       "      <td>...</td>\n",
       "      <td>0</td>\n",
       "      <td>0</td>\n",
       "      <td>0</td>\n",
       "      <td>0</td>\n",
       "      <td>0</td>\n",
       "      <td>1</td>\n",
       "      <td>0</td>\n",
       "      <td>1</td>\n",
       "      <td>0</td>\n",
       "      <td>0</td>\n",
       "    </tr>\n",
       "    <tr>\n",
       "      <th>...</th>\n",
       "      <td>...</td>\n",
       "      <td>...</td>\n",
       "      <td>...</td>\n",
       "      <td>...</td>\n",
       "      <td>...</td>\n",
       "      <td>...</td>\n",
       "      <td>...</td>\n",
       "      <td>...</td>\n",
       "      <td>...</td>\n",
       "      <td>...</td>\n",
       "      <td>...</td>\n",
       "      <td>...</td>\n",
       "      <td>...</td>\n",
       "      <td>...</td>\n",
       "      <td>...</td>\n",
       "      <td>...</td>\n",
       "      <td>...</td>\n",
       "      <td>...</td>\n",
       "      <td>...</td>\n",
       "      <td>...</td>\n",
       "      <td>...</td>\n",
       "    </tr>\n",
       "    <tr>\n",
       "      <th>595</th>\n",
       "      <td>111</td>\n",
       "      <td>1</td>\n",
       "      <td>510</td>\n",
       "      <td>7</td>\n",
       "      <td>2014</td>\n",
       "      <td>8</td>\n",
       "      <td>1</td>\n",
       "      <td>0</td>\n",
       "      <td>0</td>\n",
       "      <td>0</td>\n",
       "      <td>...</td>\n",
       "      <td>0</td>\n",
       "      <td>0</td>\n",
       "      <td>0</td>\n",
       "      <td>0</td>\n",
       "      <td>0</td>\n",
       "      <td>0</td>\n",
       "      <td>0</td>\n",
       "      <td>0</td>\n",
       "      <td>0</td>\n",
       "      <td>1</td>\n",
       "    </tr>\n",
       "    <tr>\n",
       "      <th>596</th>\n",
       "      <td>127</td>\n",
       "      <td>1</td>\n",
       "      <td>286</td>\n",
       "      <td>6</td>\n",
       "      <td>2013</td>\n",
       "      <td>3</td>\n",
       "      <td>0</td>\n",
       "      <td>0</td>\n",
       "      <td>1</td>\n",
       "      <td>0</td>\n",
       "      <td>...</td>\n",
       "      <td>0</td>\n",
       "      <td>0</td>\n",
       "      <td>0</td>\n",
       "      <td>0</td>\n",
       "      <td>0</td>\n",
       "      <td>0</td>\n",
       "      <td>0</td>\n",
       "      <td>1</td>\n",
       "      <td>0</td>\n",
       "      <td>0</td>\n",
       "    </tr>\n",
       "    <tr>\n",
       "      <th>597</th>\n",
       "      <td>99</td>\n",
       "      <td>0</td>\n",
       "      <td>123</td>\n",
       "      <td>4</td>\n",
       "      <td>2010</td>\n",
       "      <td>9</td>\n",
       "      <td>0</td>\n",
       "      <td>1</td>\n",
       "      <td>0</td>\n",
       "      <td>0</td>\n",
       "      <td>...</td>\n",
       "      <td>0</td>\n",
       "      <td>0</td>\n",
       "      <td>0</td>\n",
       "      <td>0</td>\n",
       "      <td>0</td>\n",
       "      <td>0</td>\n",
       "      <td>0</td>\n",
       "      <td>0</td>\n",
       "      <td>0</td>\n",
       "      <td>1</td>\n",
       "    </tr>\n",
       "    <tr>\n",
       "      <th>598</th>\n",
       "      <td>102</td>\n",
       "      <td>0</td>\n",
       "      <td>431</td>\n",
       "      <td>4</td>\n",
       "      <td>2015</td>\n",
       "      <td>5</td>\n",
       "      <td>0</td>\n",
       "      <td>0</td>\n",
       "      <td>0</td>\n",
       "      <td>1</td>\n",
       "      <td>...</td>\n",
       "      <td>0</td>\n",
       "      <td>0</td>\n",
       "      <td>0</td>\n",
       "      <td>0</td>\n",
       "      <td>0</td>\n",
       "      <td>0</td>\n",
       "      <td>0</td>\n",
       "      <td>1</td>\n",
       "      <td>0</td>\n",
       "      <td>0</td>\n",
       "    </tr>\n",
       "    <tr>\n",
       "      <th>599</th>\n",
       "      <td>120</td>\n",
       "      <td>0</td>\n",
       "      <td>363</td>\n",
       "      <td>5</td>\n",
       "      <td>2013</td>\n",
       "      <td>1</td>\n",
       "      <td>0</td>\n",
       "      <td>0</td>\n",
       "      <td>0</td>\n",
       "      <td>1</td>\n",
       "      <td>...</td>\n",
       "      <td>0</td>\n",
       "      <td>0</td>\n",
       "      <td>0</td>\n",
       "      <td>0</td>\n",
       "      <td>1</td>\n",
       "      <td>0</td>\n",
       "      <td>0</td>\n",
       "      <td>1</td>\n",
       "      <td>0</td>\n",
       "      <td>0</td>\n",
       "    </tr>\n",
       "  </tbody>\n",
       "</table>\n",
       "<p>600 rows × 28 columns</p>\n",
       "</div>"
      ],
      "text/plain": [
       "     time  dir_prev_num  num_staff  num_actor     년   월  distributor_(주)NEW  \\\n",
       "0      96             0         91          2  2012  11                   0   \n",
       "1     130             2        387          3  2015  11                   0   \n",
       "2     123             4        343          4  2013   6                   0   \n",
       "3     101             2         20          6  2012   7                   1   \n",
       "4     108             1        251          2  2010  11                   0   \n",
       "..    ...           ...        ...        ...   ...  ..                 ...   \n",
       "595   111             1        510          7  2014   8                   1   \n",
       "596   127             1        286          6  2013   3                   0   \n",
       "597    99             0        123          4  2010   9                   0   \n",
       "598   102             0        431          4  2015   5                   0   \n",
       "599   120             0        363          5  2013   1                   0   \n",
       "\n",
       "     distributor_(주)마운틴픽쳐스  distributor_(주)쇼박스  distributor_CJ 엔터테인먼트  ...  \\\n",
       "0                        0                   0                      0  ...   \n",
       "1                        0                   1                      0  ...   \n",
       "2                        0                   1                      0  ...   \n",
       "3                        0                   0                      0  ...   \n",
       "4                        0                   0                      0  ...   \n",
       "..                     ...                 ...                    ...  ...   \n",
       "595                      0                   0                      0  ...   \n",
       "596                      0                   1                      0  ...   \n",
       "597                      1                   0                      0  ...   \n",
       "598                      0                   0                      1  ...   \n",
       "599                      0                   0                      1  ...   \n",
       "\n",
       "     genre_뮤지컬  genre_미스터리  genre_서스펜스  genre_애니메이션  genre_액션  genre_코미디  \\\n",
       "0            0           0           0            0         1          0   \n",
       "1            0           0           0            0         0          0   \n",
       "2            0           0           0            0         1          0   \n",
       "3            0           0           0            0         0          1   \n",
       "4            0           0           0            0         0          1   \n",
       "..         ...         ...         ...          ...       ...        ...   \n",
       "595          0           0           0            0         0          0   \n",
       "596          0           0           0            0         0          0   \n",
       "597          0           0           0            0         0          0   \n",
       "598          0           0           0            0         0          0   \n",
       "599          0           0           0            0         1          0   \n",
       "\n",
       "     screening_rat_12세 관람가  screening_rat_15세 관람가  screening_rat_전체 관람가  \\\n",
       "0                        0                      0                     0   \n",
       "1                        0                      0                     0   \n",
       "2                        0                      1                     0   \n",
       "3                        0                      0                     1   \n",
       "4                        0                      1                     0   \n",
       "..                     ...                    ...                   ...   \n",
       "595                      0                      0                     0   \n",
       "596                      0                      1                     0   \n",
       "597                      0                      0                     0   \n",
       "598                      0                      1                     0   \n",
       "599                      0                      1                     0   \n",
       "\n",
       "     screening_rat_청소년 관람불가  \n",
       "0                         1  \n",
       "1                         1  \n",
       "2                         0  \n",
       "3                         0  \n",
       "4                         0  \n",
       "..                      ...  \n",
       "595                       1  \n",
       "596                       0  \n",
       "597                       1  \n",
       "598                       0  \n",
       "599                       0  \n",
       "\n",
       "[600 rows x 28 columns]"
      ]
     },
     "execution_count": 16,
     "metadata": {},
     "output_type": "execute_result"
    }
   ],
   "source": [
    "train_x"
   ]
  },
  {
   "cell_type": "code",
   "execution_count": 14,
   "id": "977c0f59",
   "metadata": {
    "ExecuteTime": {
     "end_time": "2023-01-15T13:55:41.429810Z",
     "start_time": "2023-01-15T13:55:41.420413Z"
    }
   },
   "outputs": [
    {
     "data": {
      "text/plain": [
       "(600,)"
      ]
     },
     "execution_count": 14,
     "metadata": {},
     "output_type": "execute_result"
    }
   ],
   "source": [
    "train_y.shape"
   ]
  },
  {
   "cell_type": "code",
   "execution_count": 15,
   "id": "abb7e465",
   "metadata": {
    "ExecuteTime": {
     "end_time": "2023-01-15T13:55:45.321763Z",
     "start_time": "2023-01-15T13:55:45.316956Z"
    }
   },
   "outputs": [
    {
     "data": {
      "text/plain": [
       "(243, 28)"
      ]
     },
     "execution_count": 15,
     "metadata": {},
     "output_type": "execute_result"
    }
   ],
   "source": [
    "test.shape"
   ]
  },
  {
   "cell_type": "markdown",
   "id": "aeaf8e38",
   "metadata": {},
   "source": [
    "### 학습 된 모델로 예측 데이터 생성\n"
   ]
  },
  {
   "cell_type": "code",
   "execution_count": 6,
   "id": "fa9024dc",
   "metadata": {
    "ExecuteTime": {
     "end_time": "2023-01-15T01:04:46.405626Z",
     "start_time": "2023-01-15T01:04:46.384949Z"
    }
   },
   "outputs": [],
   "source": [
    "pred = model.predict(test)"
   ]
  },
  {
   "cell_type": "markdown",
   "id": "b977dd34",
   "metadata": {},
   "source": [
    "### 제출파일 생성"
   ]
  },
  {
   "cell_type": "code",
   "execution_count": 9,
   "id": "7cf2e8c4",
   "metadata": {
    "ExecuteTime": {
     "end_time": "2023-01-15T01:05:12.536421Z",
     "start_time": "2023-01-15T01:05:12.511360Z"
    }
   },
   "outputs": [
    {
     "data": {
      "text/html": [
       "<div>\n",
       "<style scoped>\n",
       "    .dataframe tbody tr th:only-of-type {\n",
       "        vertical-align: middle;\n",
       "    }\n",
       "\n",
       "    .dataframe tbody tr th {\n",
       "        vertical-align: top;\n",
       "    }\n",
       "\n",
       "    .dataframe thead th {\n",
       "        text-align: right;\n",
       "    }\n",
       "</style>\n",
       "<table border=\"1\" class=\"dataframe\">\n",
       "  <thead>\n",
       "    <tr style=\"text-align: right;\">\n",
       "      <th></th>\n",
       "      <th>title</th>\n",
       "      <th>box_off_num</th>\n",
       "    </tr>\n",
       "  </thead>\n",
       "  <tbody>\n",
       "    <tr>\n",
       "      <th>0</th>\n",
       "      <td>용서는 없다</td>\n",
       "      <td>0</td>\n",
       "    </tr>\n",
       "    <tr>\n",
       "      <th>1</th>\n",
       "      <td>아빠가 여자를 좋아해</td>\n",
       "      <td>0</td>\n",
       "    </tr>\n",
       "    <tr>\n",
       "      <th>2</th>\n",
       "      <td>하모니</td>\n",
       "      <td>0</td>\n",
       "    </tr>\n",
       "    <tr>\n",
       "      <th>3</th>\n",
       "      <td>의형제</td>\n",
       "      <td>0</td>\n",
       "    </tr>\n",
       "    <tr>\n",
       "      <th>4</th>\n",
       "      <td>평행 이론</td>\n",
       "      <td>0</td>\n",
       "    </tr>\n",
       "    <tr>\n",
       "      <th>...</th>\n",
       "      <td>...</td>\n",
       "      <td>...</td>\n",
       "    </tr>\n",
       "    <tr>\n",
       "      <th>238</th>\n",
       "      <td>해에게서 소년에게</td>\n",
       "      <td>0</td>\n",
       "    </tr>\n",
       "    <tr>\n",
       "      <th>239</th>\n",
       "      <td>울보 권투부</td>\n",
       "      <td>0</td>\n",
       "    </tr>\n",
       "    <tr>\n",
       "      <th>240</th>\n",
       "      <td>어떤살인</td>\n",
       "      <td>0</td>\n",
       "    </tr>\n",
       "    <tr>\n",
       "      <th>241</th>\n",
       "      <td>말하지 못한 비밀</td>\n",
       "      <td>0</td>\n",
       "    </tr>\n",
       "    <tr>\n",
       "      <th>242</th>\n",
       "      <td>조선안방 스캔들-칠거지악 2</td>\n",
       "      <td>0</td>\n",
       "    </tr>\n",
       "  </tbody>\n",
       "</table>\n",
       "<p>243 rows × 2 columns</p>\n",
       "</div>"
      ],
      "text/plain": [
       "               title  box_off_num\n",
       "0             용서는 없다            0\n",
       "1        아빠가 여자를 좋아해            0\n",
       "2                하모니            0\n",
       "3                의형제            0\n",
       "4              평행 이론            0\n",
       "..               ...          ...\n",
       "238        해에게서 소년에게            0\n",
       "239           울보 권투부            0\n",
       "240             어떤살인            0\n",
       "241        말하지 못한 비밀            0\n",
       "242  조선안방 스캔들-칠거지악 2            0\n",
       "\n",
       "[243 rows x 2 columns]"
      ]
     },
     "execution_count": 9,
     "metadata": {},
     "output_type": "execute_result"
    }
   ],
   "source": [
    "submission = pd.read_csv('data/submission.csv')\n",
    "submission"
   ]
  },
  {
   "cell_type": "code",
   "execution_count": 10,
   "id": "ce2a8c78",
   "metadata": {
    "ExecuteTime": {
     "end_time": "2023-01-15T01:05:25.485067Z",
     "start_time": "2023-01-15T01:05:25.473413Z"
    }
   },
   "outputs": [
    {
     "data": {
      "text/html": [
       "<div>\n",
       "<style scoped>\n",
       "    .dataframe tbody tr th:only-of-type {\n",
       "        vertical-align: middle;\n",
       "    }\n",
       "\n",
       "    .dataframe tbody tr th {\n",
       "        vertical-align: top;\n",
       "    }\n",
       "\n",
       "    .dataframe thead th {\n",
       "        text-align: right;\n",
       "    }\n",
       "</style>\n",
       "<table border=\"1\" class=\"dataframe\">\n",
       "  <thead>\n",
       "    <tr style=\"text-align: right;\">\n",
       "      <th></th>\n",
       "      <th>title</th>\n",
       "      <th>box_off_num</th>\n",
       "    </tr>\n",
       "  </thead>\n",
       "  <tbody>\n",
       "    <tr>\n",
       "      <th>0</th>\n",
       "      <td>용서는 없다</td>\n",
       "      <td>2752161.78</td>\n",
       "    </tr>\n",
       "    <tr>\n",
       "      <th>1</th>\n",
       "      <td>아빠가 여자를 좋아해</td>\n",
       "      <td>1527039.75</td>\n",
       "    </tr>\n",
       "    <tr>\n",
       "      <th>2</th>\n",
       "      <td>하모니</td>\n",
       "      <td>1682460.21</td>\n",
       "    </tr>\n",
       "    <tr>\n",
       "      <th>3</th>\n",
       "      <td>의형제</td>\n",
       "      <td>1964606.40</td>\n",
       "    </tr>\n",
       "    <tr>\n",
       "      <th>4</th>\n",
       "      <td>평행 이론</td>\n",
       "      <td>1235067.84</td>\n",
       "    </tr>\n",
       "    <tr>\n",
       "      <th>...</th>\n",
       "      <td>...</td>\n",
       "      <td>...</td>\n",
       "    </tr>\n",
       "    <tr>\n",
       "      <th>238</th>\n",
       "      <td>해에게서 소년에게</td>\n",
       "      <td>74444.84</td>\n",
       "    </tr>\n",
       "    <tr>\n",
       "      <th>239</th>\n",
       "      <td>울보 권투부</td>\n",
       "      <td>5782.41</td>\n",
       "    </tr>\n",
       "    <tr>\n",
       "      <th>240</th>\n",
       "      <td>어떤살인</td>\n",
       "      <td>337414.20</td>\n",
       "    </tr>\n",
       "    <tr>\n",
       "      <th>241</th>\n",
       "      <td>말하지 못한 비밀</td>\n",
       "      <td>8167.66</td>\n",
       "    </tr>\n",
       "    <tr>\n",
       "      <th>242</th>\n",
       "      <td>조선안방 스캔들-칠거지악 2</td>\n",
       "      <td>1770.02</td>\n",
       "    </tr>\n",
       "  </tbody>\n",
       "</table>\n",
       "<p>243 rows × 2 columns</p>\n",
       "</div>"
      ],
      "text/plain": [
       "               title  box_off_num\n",
       "0             용서는 없다   2752161.78\n",
       "1        아빠가 여자를 좋아해   1527039.75\n",
       "2                하모니   1682460.21\n",
       "3                의형제   1964606.40\n",
       "4              평행 이론   1235067.84\n",
       "..               ...          ...\n",
       "238        해에게서 소년에게     74444.84\n",
       "239           울보 권투부      5782.41\n",
       "240             어떤살인    337414.20\n",
       "241        말하지 못한 비밀      8167.66\n",
       "242  조선안방 스캔들-칠거지악 2      1770.02\n",
       "\n",
       "[243 rows x 2 columns]"
      ]
     },
     "execution_count": 10,
     "metadata": {},
     "output_type": "execute_result"
    }
   ],
   "source": [
    "submission['box_off_num'] = pred\n",
    "submission"
   ]
  },
  {
   "cell_type": "code",
   "execution_count": 12,
   "id": "18425227",
   "metadata": {
    "ExecuteTime": {
     "end_time": "2023-01-15T01:05:50.294537Z",
     "start_time": "2023-01-15T01:05:50.285363Z"
    }
   },
   "outputs": [],
   "source": [
    "submission.to_csv('dacon_baseline_code.csv',index = False)"
   ]
  },
  {
   "cell_type": "code",
   "execution_count": null,
   "id": "e156609d",
   "metadata": {},
   "outputs": [],
   "source": []
  }
 ],
 "metadata": {
  "hide_input": false,
  "kernelspec": {
   "display_name": "Python 3 (ipykernel)",
   "language": "python",
   "name": "python3"
  },
  "language_info": {
   "codemirror_mode": {
    "name": "ipython",
    "version": 3
   },
   "file_extension": ".py",
   "mimetype": "text/x-python",
   "name": "python",
   "nbconvert_exporter": "python",
   "pygments_lexer": "ipython3",
   "version": "3.9.13"
  },
  "toc": {
   "base_numbering": 1,
   "nav_menu": {},
   "number_sections": true,
   "sideBar": true,
   "skip_h1_title": false,
   "title_cell": "Table of Contents",
   "title_sidebar": "Contents",
   "toc_cell": false,
   "toc_position": {},
   "toc_section_display": true,
   "toc_window_display": false
  },
  "varInspector": {
   "cols": {
    "lenName": 16,
    "lenType": 16,
    "lenVar": 40
   },
   "kernels_config": {
    "python": {
     "delete_cmd_postfix": "",
     "delete_cmd_prefix": "del ",
     "library": "var_list.py",
     "varRefreshCmd": "print(var_dic_list())"
    },
    "r": {
     "delete_cmd_postfix": ") ",
     "delete_cmd_prefix": "rm(",
     "library": "var_list.r",
     "varRefreshCmd": "cat(var_dic_list()) "
    }
   },
   "types_to_exclude": [
    "module",
    "function",
    "builtin_function_or_method",
    "instance",
    "_Feature"
   ],
   "window_display": false
  }
 },
 "nbformat": 4,
 "nbformat_minor": 5
}
