{
 "cells": [
  {
   "cell_type": "markdown",
   "metadata": {},
   "source": [
    "# Import Libraries"
   ]
  },
  {
   "cell_type": "code",
   "execution_count": 35,
   "metadata": {},
   "outputs": [],
   "source": [
    "import datetime\n",
    "import time\n",
    "\n",
    "import pandas as pd\n",
    "import matplotlib.pyplot as plt\n",
    "import seaborn as sns\n",
    "\n",
    "plt.style.use('seaborn')\n",
    "sns.set(font_scale=2.0)\n",
    "\n",
    "from sklearn.ensemble import RandomForestRegressor"
   ]
  },
  {
   "cell_type": "markdown",
   "metadata": {},
   "source": [
    "# Load Dataset"
   ]
  },
  {
   "cell_type": "code",
   "execution_count": 19,
   "metadata": {},
   "outputs": [],
   "source": [
    "df_train = pd.read_csv('data/movies_train.csv')\n",
    "df_test = pd.read_csv('data/movies_test.csv')"
   ]
  },
  {
   "cell_type": "markdown",
   "metadata": {},
   "source": [
    "# Explore Dataset"
   ]
  },
  {
   "cell_type": "code",
   "execution_count": 20,
   "metadata": {},
   "outputs": [
    {
     "name": "stdout",
     "output_type": "stream",
     "text": [
      "<class 'pandas.core.frame.DataFrame'>\n",
      "RangeIndex: 600 entries, 0 to 599\n",
      "Data columns (total 12 columns):\n",
      " #   Column          Non-Null Count  Dtype  \n",
      "---  ------          --------------  -----  \n",
      " 0   title           600 non-null    object \n",
      " 1   distributor     600 non-null    object \n",
      " 2   genre           600 non-null    object \n",
      " 3   release_time    600 non-null    object \n",
      " 4   time            600 non-null    int64  \n",
      " 5   screening_rat   600 non-null    object \n",
      " 6   director        600 non-null    object \n",
      " 7   dir_prev_bfnum  270 non-null    float64\n",
      " 8   dir_prev_num    600 non-null    int64  \n",
      " 9   num_staff       600 non-null    int64  \n",
      " 10  num_actor       600 non-null    int64  \n",
      " 11  box_off_num     600 non-null    int64  \n",
      "dtypes: float64(1), int64(5), object(6)\n",
      "memory usage: 56.4+ KB\n"
     ]
    }
   ],
   "source": [
    "df_train.info()"
   ]
  },
  {
   "cell_type": "code",
   "execution_count": 21,
   "metadata": {},
   "outputs": [
    {
     "data": {
      "text/html": [
       "<div>\n",
       "<style scoped>\n",
       "    .dataframe tbody tr th:only-of-type {\n",
       "        vertical-align: middle;\n",
       "    }\n",
       "\n",
       "    .dataframe tbody tr th {\n",
       "        vertical-align: top;\n",
       "    }\n",
       "\n",
       "    .dataframe thead th {\n",
       "        text-align: right;\n",
       "    }\n",
       "</style>\n",
       "<table border=\"1\" class=\"dataframe\">\n",
       "  <thead>\n",
       "    <tr style=\"text-align: right;\">\n",
       "      <th></th>\n",
       "      <th>title</th>\n",
       "      <th>distributor</th>\n",
       "      <th>genre</th>\n",
       "      <th>release_time</th>\n",
       "      <th>time</th>\n",
       "      <th>screening_rat</th>\n",
       "      <th>director</th>\n",
       "      <th>dir_prev_bfnum</th>\n",
       "      <th>dir_prev_num</th>\n",
       "      <th>num_staff</th>\n",
       "      <th>num_actor</th>\n",
       "      <th>box_off_num</th>\n",
       "    </tr>\n",
       "  </thead>\n",
       "  <tbody>\n",
       "    <tr>\n",
       "      <th>0</th>\n",
       "      <td>개들의 전쟁</td>\n",
       "      <td>롯데엔터테인먼트</td>\n",
       "      <td>액션</td>\n",
       "      <td>2012-11-22</td>\n",
       "      <td>96</td>\n",
       "      <td>청소년 관람불가</td>\n",
       "      <td>조병옥</td>\n",
       "      <td>NaN</td>\n",
       "      <td>0</td>\n",
       "      <td>91</td>\n",
       "      <td>2</td>\n",
       "      <td>23398</td>\n",
       "    </tr>\n",
       "    <tr>\n",
       "      <th>1</th>\n",
       "      <td>내부자들</td>\n",
       "      <td>(주)쇼박스</td>\n",
       "      <td>느와르</td>\n",
       "      <td>2015-11-19</td>\n",
       "      <td>130</td>\n",
       "      <td>청소년 관람불가</td>\n",
       "      <td>우민호</td>\n",
       "      <td>1161602.50</td>\n",
       "      <td>2</td>\n",
       "      <td>387</td>\n",
       "      <td>3</td>\n",
       "      <td>7072501</td>\n",
       "    </tr>\n",
       "    <tr>\n",
       "      <th>2</th>\n",
       "      <td>은밀하게 위대하게</td>\n",
       "      <td>(주)쇼박스</td>\n",
       "      <td>액션</td>\n",
       "      <td>2013-06-05</td>\n",
       "      <td>123</td>\n",
       "      <td>15세 관람가</td>\n",
       "      <td>장철수</td>\n",
       "      <td>220775.25</td>\n",
       "      <td>4</td>\n",
       "      <td>343</td>\n",
       "      <td>4</td>\n",
       "      <td>6959083</td>\n",
       "    </tr>\n",
       "  </tbody>\n",
       "</table>\n",
       "</div>"
      ],
      "text/plain": [
       "       title distributor genre release_time  time screening_rat director  \\\n",
       "0     개들의 전쟁    롯데엔터테인먼트    액션   2012-11-22    96      청소년 관람불가      조병옥   \n",
       "1       내부자들      (주)쇼박스   느와르   2015-11-19   130      청소년 관람불가      우민호   \n",
       "2  은밀하게 위대하게      (주)쇼박스    액션   2013-06-05   123       15세 관람가      장철수   \n",
       "\n",
       "   dir_prev_bfnum  dir_prev_num  num_staff  num_actor  box_off_num  \n",
       "0             NaN             0         91          2        23398  \n",
       "1      1161602.50             2        387          3      7072501  \n",
       "2       220775.25             4        343          4      6959083  "
      ]
     },
     "execution_count": 21,
     "metadata": {},
     "output_type": "execute_result"
    }
   ],
   "source": [
    "df_train.head(3)"
   ]
  },
  {
   "cell_type": "code",
   "execution_count": 22,
   "metadata": {},
   "outputs": [
    {
     "name": "stdout",
     "output_type": "stream",
     "text": [
      "<class 'pandas.core.frame.DataFrame'>\n",
      "RangeIndex: 243 entries, 0 to 242\n",
      "Data columns (total 11 columns):\n",
      " #   Column          Non-Null Count  Dtype  \n",
      "---  ------          --------------  -----  \n",
      " 0   title           243 non-null    object \n",
      " 1   distributor     243 non-null    object \n",
      " 2   genre           243 non-null    object \n",
      " 3   release_time    243 non-null    object \n",
      " 4   time            243 non-null    int64  \n",
      " 5   screening_rat   243 non-null    object \n",
      " 6   director        243 non-null    object \n",
      " 7   dir_prev_bfnum  107 non-null    float64\n",
      " 8   dir_prev_num    243 non-null    int64  \n",
      " 9   num_staff       243 non-null    int64  \n",
      " 10  num_actor       243 non-null    int64  \n",
      "dtypes: float64(1), int64(4), object(6)\n",
      "memory usage: 21.0+ KB\n"
     ]
    }
   ],
   "source": [
    "df_test.info()"
   ]
  },
  {
   "cell_type": "code",
   "execution_count": 23,
   "metadata": {},
   "outputs": [
    {
     "data": {
      "text/html": [
       "<div>\n",
       "<style scoped>\n",
       "    .dataframe tbody tr th:only-of-type {\n",
       "        vertical-align: middle;\n",
       "    }\n",
       "\n",
       "    .dataframe tbody tr th {\n",
       "        vertical-align: top;\n",
       "    }\n",
       "\n",
       "    .dataframe thead th {\n",
       "        text-align: right;\n",
       "    }\n",
       "</style>\n",
       "<table border=\"1\" class=\"dataframe\">\n",
       "  <thead>\n",
       "    <tr style=\"text-align: right;\">\n",
       "      <th></th>\n",
       "      <th>title</th>\n",
       "      <th>distributor</th>\n",
       "      <th>genre</th>\n",
       "      <th>release_time</th>\n",
       "      <th>time</th>\n",
       "      <th>screening_rat</th>\n",
       "      <th>director</th>\n",
       "      <th>dir_prev_bfnum</th>\n",
       "      <th>dir_prev_num</th>\n",
       "      <th>num_staff</th>\n",
       "      <th>num_actor</th>\n",
       "    </tr>\n",
       "  </thead>\n",
       "  <tbody>\n",
       "    <tr>\n",
       "      <th>0</th>\n",
       "      <td>용서는 없다</td>\n",
       "      <td>시네마서비스</td>\n",
       "      <td>느와르</td>\n",
       "      <td>2010-01-07</td>\n",
       "      <td>125</td>\n",
       "      <td>청소년 관람불가</td>\n",
       "      <td>김형준</td>\n",
       "      <td>3.005290e+05</td>\n",
       "      <td>2</td>\n",
       "      <td>304</td>\n",
       "      <td>3</td>\n",
       "    </tr>\n",
       "    <tr>\n",
       "      <th>1</th>\n",
       "      <td>아빠가 여자를 좋아해</td>\n",
       "      <td>(주)쇼박스</td>\n",
       "      <td>멜로/로맨스</td>\n",
       "      <td>2010-01-14</td>\n",
       "      <td>113</td>\n",
       "      <td>12세 관람가</td>\n",
       "      <td>이광재</td>\n",
       "      <td>3.427002e+05</td>\n",
       "      <td>4</td>\n",
       "      <td>275</td>\n",
       "      <td>3</td>\n",
       "    </tr>\n",
       "    <tr>\n",
       "      <th>2</th>\n",
       "      <td>하모니</td>\n",
       "      <td>CJ 엔터테인먼트</td>\n",
       "      <td>드라마</td>\n",
       "      <td>2010-01-28</td>\n",
       "      <td>115</td>\n",
       "      <td>12세 관람가</td>\n",
       "      <td>강대규</td>\n",
       "      <td>4.206611e+06</td>\n",
       "      <td>3</td>\n",
       "      <td>419</td>\n",
       "      <td>7</td>\n",
       "    </tr>\n",
       "  </tbody>\n",
       "</table>\n",
       "</div>"
      ],
      "text/plain": [
       "         title distributor   genre release_time  time screening_rat director  \\\n",
       "0       용서는 없다      시네마서비스     느와르   2010-01-07   125      청소년 관람불가      김형준   \n",
       "1  아빠가 여자를 좋아해      (주)쇼박스  멜로/로맨스   2010-01-14   113       12세 관람가      이광재   \n",
       "2          하모니   CJ 엔터테인먼트     드라마   2010-01-28   115       12세 관람가      강대규   \n",
       "\n",
       "   dir_prev_bfnum  dir_prev_num  num_staff  num_actor  \n",
       "0    3.005290e+05             2        304          3  \n",
       "1    3.427002e+05             4        275          3  \n",
       "2    4.206611e+06             3        419          7  "
      ]
     },
     "execution_count": 23,
     "metadata": {},
     "output_type": "execute_result"
    }
   ],
   "source": [
    "df_test.head(3)"
   ]
  },
  {
   "cell_type": "markdown",
   "metadata": {},
   "source": [
    "### 결측치 확인"
   ]
  },
  {
   "cell_type": "code",
   "execution_count": 24,
   "metadata": {},
   "outputs": [
    {
     "data": {
      "text/plain": [
       "title               0\n",
       "distributor         0\n",
       "genre               0\n",
       "release_time        0\n",
       "time                0\n",
       "screening_rat       0\n",
       "director            0\n",
       "dir_prev_bfnum    330\n",
       "dir_prev_num        0\n",
       "num_staff           0\n",
       "num_actor           0\n",
       "box_off_num         0\n",
       "dtype: int64"
      ]
     },
     "execution_count": 24,
     "metadata": {},
     "output_type": "execute_result"
    }
   ],
   "source": [
    "df_train.isnull().sum()"
   ]
  },
  {
   "cell_type": "code",
   "execution_count": 25,
   "metadata": {
    "scrolled": true
   },
   "outputs": [
    {
     "data": {
      "text/plain": [
       "title               0\n",
       "distributor         0\n",
       "genre               0\n",
       "release_time        0\n",
       "time                0\n",
       "screening_rat       0\n",
       "director            0\n",
       "dir_prev_bfnum    136\n",
       "dir_prev_num        0\n",
       "num_staff           0\n",
       "num_actor           0\n",
       "dtype: int64"
      ]
     },
     "execution_count": 25,
     "metadata": {},
     "output_type": "execute_result"
    }
   ],
   "source": [
    "df_test.isnull().sum()"
   ]
  },
  {
   "cell_type": "markdown",
   "metadata": {},
   "source": [
    "> dir_prev_bfnum 외에는 결측치가 없어 수월하다. 다만, train 데이터의 dir_prev_bfnum은 결측치가 50%를 초과했으므로 추후 drop해야 할 것 같다."
   ]
  },
  {
   "cell_type": "markdown",
   "metadata": {},
   "source": [
    "### title\n",
    "- 제목"
   ]
  },
  {
   "cell_type": "code",
   "execution_count": 26,
   "metadata": {},
   "outputs": [
    {
     "data": {
      "text/plain": [
       "600"
      ]
     },
     "execution_count": 26,
     "metadata": {},
     "output_type": "execute_result"
    }
   ],
   "source": [
    "len(df_train['title'].unique())"
   ]
  },
  {
   "cell_type": "markdown",
   "metadata": {},
   "source": [
    "> 영화 제목은 600개 데이터 포인트가 모두 달라서 drop해야 할 것 같다. 단, 제목에 포함된 단어만으로 그룹핑을 하거나 제목의 길이에 따른 관객 수 차이가 있는지?"
   ]
  },
  {
   "cell_type": "code",
   "execution_count": 27,
   "metadata": {
    "scrolled": true
   },
   "outputs": [
    {
     "data": {
      "text/plain": [
       "[6,\n",
       " 4,\n",
       " 9,\n",
       " 8,\n",
       " 4,\n",
       " 14,\n",
       " 4,\n",
       " 3,\n",
       " 15,\n",
       " 5,\n",
       " 6,\n",
       " 5,\n",
       " 2,\n",
       " 1,\n",
       " 7,\n",
       " 6,\n",
       " 2,\n",
       " 8,\n",
       " 2,\n",
       " 3,\n",
       " 9,\n",
       " 11,\n",
       " 2,\n",
       " 6,\n",
       " 6,\n",
       " 2,\n",
       " 6,\n",
       " 17,\n",
       " 3,\n",
       " 16,\n",
       " 6,\n",
       " 4,\n",
       " 6,\n",
       " 7,\n",
       " 6,\n",
       " 8,\n",
       " 6,\n",
       " 3,\n",
       " 8,\n",
       " 4,\n",
       " 8,\n",
       " 5,\n",
       " 6,\n",
       " 17,\n",
       " 4,\n",
       " 8,\n",
       " 5,\n",
       " 7,\n",
       " 3,\n",
       " 26,\n",
       " 2,\n",
       " 3,\n",
       " 24,\n",
       " 12,\n",
       " 2,\n",
       " 7,\n",
       " 3,\n",
       " 7,\n",
       " 7,\n",
       " 4,\n",
       " 27,\n",
       " 4,\n",
       " 4,\n",
       " 2,\n",
       " 11,\n",
       " 4,\n",
       " 3,\n",
       " 10,\n",
       " 20,\n",
       " 7,\n",
       " 8,\n",
       " 9,\n",
       " 6,\n",
       " 17,\n",
       " 3,\n",
       " 13,\n",
       " 7,\n",
       " 3,\n",
       " 7,\n",
       " 5,\n",
       " 2,\n",
       " 6,\n",
       " 2,\n",
       " 4,\n",
       " 5,\n",
       " 6,\n",
       " 3,\n",
       " 4,\n",
       " 13,\n",
       " 3,\n",
       " 4,\n",
       " 3,\n",
       " 18,\n",
       " 7,\n",
       " 6,\n",
       " 2,\n",
       " 3,\n",
       " 3,\n",
       " 6,\n",
       " 8,\n",
       " 3,\n",
       " 2,\n",
       " 2,\n",
       " 7,\n",
       " 3,\n",
       " 2,\n",
       " 1,\n",
       " 9,\n",
       " 5,\n",
       " 5,\n",
       " 3,\n",
       " 2,\n",
       " 18,\n",
       " 8,\n",
       " 3,\n",
       " 4,\n",
       " 6,\n",
       " 14,\n",
       " 7,\n",
       " 4,\n",
       " 8,\n",
       " 3,\n",
       " 3,\n",
       " 10,\n",
       " 2,\n",
       " 17,\n",
       " 7,\n",
       " 6,\n",
       " 17,\n",
       " 3,\n",
       " 20,\n",
       " 3,\n",
       " 6,\n",
       " 2,\n",
       " 4,\n",
       " 7,\n",
       " 8,\n",
       " 6,\n",
       " 2,\n",
       " 3,\n",
       " 5,\n",
       " 15,\n",
       " 6,\n",
       " 2,\n",
       " 12,\n",
       " 5,\n",
       " 2,\n",
       " 5,\n",
       " 5,\n",
       " 1,\n",
       " 7,\n",
       " 14,\n",
       " 2,\n",
       " 6,\n",
       " 11,\n",
       " 4,\n",
       " 7,\n",
       " 2,\n",
       " 5,\n",
       " 22,\n",
       " 4,\n",
       " 5,\n",
       " 2,\n",
       " 8,\n",
       " 11,\n",
       " 5,\n",
       " 3,\n",
       " 9,\n",
       " 2,\n",
       " 6,\n",
       " 4,\n",
       " 16,\n",
       " 2,\n",
       " 8,\n",
       " 9,\n",
       " 9,\n",
       " 8,\n",
       " 3,\n",
       " 16,\n",
       " 3,\n",
       " 10,\n",
       " 4,\n",
       " 2,\n",
       " 17,\n",
       " 4,\n",
       " 4,\n",
       " 3,\n",
       " 8,\n",
       " 12,\n",
       " 3,\n",
       " 6,\n",
       " 21,\n",
       " 4,\n",
       " 4,\n",
       " 4,\n",
       " 12,\n",
       " 8,\n",
       " 2,\n",
       " 15,\n",
       " 9,\n",
       " 4,\n",
       " 7,\n",
       " 8,\n",
       " 8,\n",
       " 19,\n",
       " 8,\n",
       " 8,\n",
       " 15,\n",
       " 2,\n",
       " 2,\n",
       " 4,\n",
       " 9,\n",
       " 5,\n",
       " 4,\n",
       " 4,\n",
       " 9,\n",
       " 6,\n",
       " 2,\n",
       " 6,\n",
       " 8,\n",
       " 3,\n",
       " 2,\n",
       " 2,\n",
       " 3,\n",
       " 10,\n",
       " 4,\n",
       " 7,\n",
       " 8,\n",
       " 2,\n",
       " 9,\n",
       " 6,\n",
       " 13,\n",
       " 8,\n",
       " 11,\n",
       " 4,\n",
       " 9,\n",
       " 7,\n",
       " 2,\n",
       " 5,\n",
       " 14,\n",
       " 6,\n",
       " 7,\n",
       " 5,\n",
       " 4,\n",
       " 9,\n",
       " 7,\n",
       " 2,\n",
       " 7,\n",
       " 9,\n",
       " 2,\n",
       " 8,\n",
       " 2,\n",
       " 9,\n",
       " 5,\n",
       " 3,\n",
       " 9,\n",
       " 5,\n",
       " 6,\n",
       " 3,\n",
       " 3,\n",
       " 13,\n",
       " 3,\n",
       " 11,\n",
       " 7,\n",
       " 10,\n",
       " 16,\n",
       " 8,\n",
       " 15,\n",
       " 7,\n",
       " 2,\n",
       " 7,\n",
       " 9,\n",
       " 4,\n",
       " 3,\n",
       " 6,\n",
       " 7,\n",
       " 2,\n",
       " 12,\n",
       " 2,\n",
       " 3,\n",
       " 10,\n",
       " 6,\n",
       " 2,\n",
       " 5,\n",
       " 7,\n",
       " 12,\n",
       " 4,\n",
       " 9,\n",
       " 2,\n",
       " 8,\n",
       " 7,\n",
       " 3,\n",
       " 8,\n",
       " 2,\n",
       " 5,\n",
       " 6,\n",
       " 3,\n",
       " 10,\n",
       " 4,\n",
       " 4,\n",
       " 6,\n",
       " 10,\n",
       " 8,\n",
       " 2,\n",
       " 9,\n",
       " 10,\n",
       " 8,\n",
       " 8,\n",
       " 3,\n",
       " 6,\n",
       " 6,\n",
       " 17,\n",
       " 1,\n",
       " 11,\n",
       " 10,\n",
       " 8,\n",
       " 12,\n",
       " 4,\n",
       " 6,\n",
       " 9,\n",
       " 6,\n",
       " 16,\n",
       " 4,\n",
       " 6,\n",
       " 2,\n",
       " 8,\n",
       " 6,\n",
       " 5,\n",
       " 7,\n",
       " 3,\n",
       " 5,\n",
       " 6,\n",
       " 4,\n",
       " 3,\n",
       " 5,\n",
       " 14,\n",
       " 22,\n",
       " 2,\n",
       " 11,\n",
       " 3,\n",
       " 4,\n",
       " 7,\n",
       " 8,\n",
       " 4,\n",
       " 4,\n",
       " 11,\n",
       " 12,\n",
       " 8,\n",
       " 6,\n",
       " 6,\n",
       " 6,\n",
       " 7,\n",
       " 3,\n",
       " 1,\n",
       " 15,\n",
       " 4,\n",
       " 13,\n",
       " 4,\n",
       " 5,\n",
       " 6,\n",
       " 3,\n",
       " 3,\n",
       " 3,\n",
       " 5,\n",
       " 6,\n",
       " 2,\n",
       " 4,\n",
       " 4,\n",
       " 7,\n",
       " 10,\n",
       " 20,\n",
       " 4,\n",
       " 4,\n",
       " 9,\n",
       " 6,\n",
       " 7,\n",
       " 9,\n",
       " 12,\n",
       " 3,\n",
       " 16,\n",
       " 2,\n",
       " 9,\n",
       " 6,\n",
       " 8,\n",
       " 5,\n",
       " 3,\n",
       " 3,\n",
       " 3,\n",
       " 4,\n",
       " 2,\n",
       " 5,\n",
       " 8,\n",
       " 4,\n",
       " 5,\n",
       " 30,\n",
       " 10,\n",
       " 8,\n",
       " 7,\n",
       " 3,\n",
       " 6,\n",
       " 4,\n",
       " 11,\n",
       " 2,\n",
       " 2,\n",
       " 8,\n",
       " 8,\n",
       " 9,\n",
       " 4,\n",
       " 3,\n",
       " 7,\n",
       " 10,\n",
       " 2,\n",
       " 3,\n",
       " 10,\n",
       " 5,\n",
       " 4,\n",
       " 3,\n",
       " 3,\n",
       " 3,\n",
       " 6,\n",
       " 11,\n",
       " 8,\n",
       " 6,\n",
       " 3,\n",
       " 2,\n",
       " 2,\n",
       " 18,\n",
       " 8,\n",
       " 11,\n",
       " 6,\n",
       " 14,\n",
       " 2,\n",
       " 7,\n",
       " 3,\n",
       " 5,\n",
       " 2,\n",
       " 14,\n",
       " 5,\n",
       " 2,\n",
       " 4,\n",
       " 13,\n",
       " 5,\n",
       " 7,\n",
       " 6,\n",
       " 3,\n",
       " 3,\n",
       " 6,\n",
       " 7,\n",
       " 14,\n",
       " 7,\n",
       " 4,\n",
       " 7,\n",
       " 18,\n",
       " 9,\n",
       " 13,\n",
       " 10,\n",
       " 10,\n",
       " 4,\n",
       " 4,\n",
       " 7,\n",
       " 11,\n",
       " 16,\n",
       " 14,\n",
       " 9,\n",
       " 2,\n",
       " 8,\n",
       " 6,\n",
       " 3,\n",
       " 4,\n",
       " 8,\n",
       " 4,\n",
       " 7,\n",
       " 4,\n",
       " 6,\n",
       " 6,\n",
       " 5,\n",
       " 6,\n",
       " 2,\n",
       " 11,\n",
       " 4,\n",
       " 6,\n",
       " 2,\n",
       " 16,\n",
       " 5,\n",
       " 8,\n",
       " 6,\n",
       " 7,\n",
       " 2,\n",
       " 9,\n",
       " 8,\n",
       " 8,\n",
       " 11,\n",
       " 6,\n",
       " 4,\n",
       " 2,\n",
       " 2,\n",
       " 4,\n",
       " 6,\n",
       " 2,\n",
       " 4,\n",
       " 9,\n",
       " 2,\n",
       " 6,\n",
       " 6,\n",
       " 7,\n",
       " 12,\n",
       " 5,\n",
       " 10,\n",
       " 10,\n",
       " 5,\n",
       " 4,\n",
       " 4,\n",
       " 5,\n",
       " 4,\n",
       " 2,\n",
       " 6,\n",
       " 4,\n",
       " 3,\n",
       " 8,\n",
       " 3,\n",
       " 10,\n",
       " 10,\n",
       " 12,\n",
       " 6,\n",
       " 4,\n",
       " 11,\n",
       " 11,\n",
       " 4,\n",
       " 1,\n",
       " 8,\n",
       " 7,\n",
       " 8,\n",
       " 7,\n",
       " 7,\n",
       " 6,\n",
       " 5,\n",
       " 3,\n",
       " 5,\n",
       " 5,\n",
       " 11,\n",
       " 2,\n",
       " 8,\n",
       " 6,\n",
       " 9,\n",
       " 10,\n",
       " 7,\n",
       " 10,\n",
       " 3,\n",
       " 9,\n",
       " 6,\n",
       " 3,\n",
       " 15,\n",
       " 6,\n",
       " 7,\n",
       " 6,\n",
       " 2,\n",
       " 5,\n",
       " 2,\n",
       " 17,\n",
       " 9,\n",
       " 2,\n",
       " 4,\n",
       " 7,\n",
       " 5,\n",
       " 8,\n",
       " 5,\n",
       " 6,\n",
       " 12,\n",
       " 2,\n",
       " 4,\n",
       " 4,\n",
       " 4,\n",
       " 8,\n",
       " 8,\n",
       " 7,\n",
       " 5,\n",
       " 4,\n",
       " 8,\n",
       " 20,\n",
       " 3,\n",
       " 5,\n",
       " 16,\n",
       " 18,\n",
       " 2,\n",
       " 4,\n",
       " 8,\n",
       " 2,\n",
       " 7,\n",
       " 3,\n",
       " 3,\n",
       " 5,\n",
       " 8,\n",
       " 5,\n",
       " 10,\n",
       " 8,\n",
       " 2,\n",
       " 4,\n",
       " 5,\n",
       " 6,\n",
       " 3]"
      ]
     },
     "execution_count": 27,
     "metadata": {},
     "output_type": "execute_result"
    }
   ],
   "source": [
    "# 영화 제목 길이와 관객 수 간의 상관관계 확인해보기\n",
    "\n",
    "result = []\n",
    "for i in range(0, 600):\n",
    "    word_length = len(df_train['title'][i])\n",
    "    result.append(word_length)\n",
    "\n",
    "result"
   ]
  },
  {
   "cell_type": "code",
   "execution_count": 36,
   "metadata": {},
   "outputs": [
    {
     "data": {
      "text/html": [
       "<div>\n",
       "<style scoped>\n",
       "    .dataframe tbody tr th:only-of-type {\n",
       "        vertical-align: middle;\n",
       "    }\n",
       "\n",
       "    .dataframe tbody tr th {\n",
       "        vertical-align: top;\n",
       "    }\n",
       "\n",
       "    .dataframe thead th {\n",
       "        text-align: right;\n",
       "    }\n",
       "</style>\n",
       "<table border=\"1\" class=\"dataframe\">\n",
       "  <thead>\n",
       "    <tr style=\"text-align: right;\">\n",
       "      <th></th>\n",
       "      <th>title</th>\n",
       "      <th>distributor</th>\n",
       "      <th>genre</th>\n",
       "      <th>release_time</th>\n",
       "      <th>time</th>\n",
       "      <th>screening_rat</th>\n",
       "      <th>director</th>\n",
       "      <th>dir_prev_bfnum</th>\n",
       "      <th>dir_prev_num</th>\n",
       "      <th>num_staff</th>\n",
       "      <th>num_actor</th>\n",
       "      <th>box_off_num</th>\n",
       "      <th>title_length</th>\n",
       "    </tr>\n",
       "  </thead>\n",
       "  <tbody>\n",
       "    <tr>\n",
       "      <th>0</th>\n",
       "      <td>개들의 전쟁</td>\n",
       "      <td>롯데엔터테인먼트</td>\n",
       "      <td>액션</td>\n",
       "      <td>2012-11-22</td>\n",
       "      <td>96</td>\n",
       "      <td>청소년 관람불가</td>\n",
       "      <td>조병옥</td>\n",
       "      <td>NaN</td>\n",
       "      <td>0</td>\n",
       "      <td>91</td>\n",
       "      <td>2</td>\n",
       "      <td>23398</td>\n",
       "      <td>6</td>\n",
       "    </tr>\n",
       "    <tr>\n",
       "      <th>1</th>\n",
       "      <td>내부자들</td>\n",
       "      <td>(주)쇼박스</td>\n",
       "      <td>느와르</td>\n",
       "      <td>2015-11-19</td>\n",
       "      <td>130</td>\n",
       "      <td>청소년 관람불가</td>\n",
       "      <td>우민호</td>\n",
       "      <td>1161602.50</td>\n",
       "      <td>2</td>\n",
       "      <td>387</td>\n",
       "      <td>3</td>\n",
       "      <td>7072501</td>\n",
       "      <td>4</td>\n",
       "    </tr>\n",
       "    <tr>\n",
       "      <th>2</th>\n",
       "      <td>은밀하게 위대하게</td>\n",
       "      <td>(주)쇼박스</td>\n",
       "      <td>액션</td>\n",
       "      <td>2013-06-05</td>\n",
       "      <td>123</td>\n",
       "      <td>15세 관람가</td>\n",
       "      <td>장철수</td>\n",
       "      <td>220775.25</td>\n",
       "      <td>4</td>\n",
       "      <td>343</td>\n",
       "      <td>4</td>\n",
       "      <td>6959083</td>\n",
       "      <td>9</td>\n",
       "    </tr>\n",
       "    <tr>\n",
       "      <th>3</th>\n",
       "      <td>나는 공무원이다</td>\n",
       "      <td>(주)NEW</td>\n",
       "      <td>코미디</td>\n",
       "      <td>2012-07-12</td>\n",
       "      <td>101</td>\n",
       "      <td>전체 관람가</td>\n",
       "      <td>구자홍</td>\n",
       "      <td>23894.00</td>\n",
       "      <td>2</td>\n",
       "      <td>20</td>\n",
       "      <td>6</td>\n",
       "      <td>217866</td>\n",
       "      <td>8</td>\n",
       "    </tr>\n",
       "    <tr>\n",
       "      <th>4</th>\n",
       "      <td>불량남녀</td>\n",
       "      <td>쇼박스(주)미디어플렉스</td>\n",
       "      <td>코미디</td>\n",
       "      <td>2010-11-04</td>\n",
       "      <td>108</td>\n",
       "      <td>15세 관람가</td>\n",
       "      <td>신근호</td>\n",
       "      <td>1.00</td>\n",
       "      <td>1</td>\n",
       "      <td>251</td>\n",
       "      <td>2</td>\n",
       "      <td>483387</td>\n",
       "      <td>4</td>\n",
       "    </tr>\n",
       "  </tbody>\n",
       "</table>\n",
       "</div>"
      ],
      "text/plain": [
       "       title   distributor genre release_time  time screening_rat director  \\\n",
       "0     개들의 전쟁      롯데엔터테인먼트    액션   2012-11-22    96      청소년 관람불가      조병옥   \n",
       "1       내부자들        (주)쇼박스   느와르   2015-11-19   130      청소년 관람불가      우민호   \n",
       "2  은밀하게 위대하게        (주)쇼박스    액션   2013-06-05   123       15세 관람가      장철수   \n",
       "3   나는 공무원이다        (주)NEW   코미디   2012-07-12   101        전체 관람가      구자홍   \n",
       "4       불량남녀  쇼박스(주)미디어플렉스   코미디   2010-11-04   108       15세 관람가      신근호   \n",
       "\n",
       "   dir_prev_bfnum  dir_prev_num  num_staff  num_actor  box_off_num  \\\n",
       "0             NaN             0         91          2        23398   \n",
       "1      1161602.50             2        387          3      7072501   \n",
       "2       220775.25             4        343          4      6959083   \n",
       "3        23894.00             2         20          6       217866   \n",
       "4            1.00             1        251          2       483387   \n",
       "\n",
       "   title_length  \n",
       "0             6  \n",
       "1             4  \n",
       "2             9  \n",
       "3             8  \n",
       "4             4  "
      ]
     },
     "execution_count": 36,
     "metadata": {},
     "output_type": "execute_result"
    }
   ],
   "source": [
    "df_train['title_length'] = result\n",
    "df_train.head()"
   ]
  },
  {
   "cell_type": "code",
   "execution_count": 38,
   "metadata": {},
   "outputs": [
    {
     "data": {
      "text/plain": [
       "<matplotlib.collections.PathCollection at 0x7fd1cae553d0>"
      ]
     },
     "execution_count": 38,
     "metadata": {},
     "output_type": "execute_result"
    },
    {
     "data": {
      "image/png": "[encoded data removed]",
      "text/plain": [
       "<Figure size 576x396 with 1 Axes>"
      ]
     },
     "metadata": {},
     "output_type": "display_data"
    }
   ],
   "source": [
    "plt.scatter(x=df_train['title_length'], y=df_train['box_off_num'], alpha=0.5)"
   ]
  },
  {
   "cell_type": "code",
   "execution_count": 40,
   "metadata": {},
   "outputs": [
    {
     "data": {
      "text/html": [
       "<div>\n",
       "<style scoped>\n",
       "    .dataframe tbody tr th:only-of-type {\n",
       "        vertical-align: middle;\n",
       "    }\n",
       "\n",
       "    .dataframe tbody tr th {\n",
       "        vertical-align: top;\n",
       "    }\n",
       "\n",
       "    .dataframe thead th {\n",
       "        text-align: right;\n",
       "    }\n",
       "</style>\n",
       "<table border=\"1\" class=\"dataframe\">\n",
       "  <thead>\n",
       "    <tr style=\"text-align: right;\">\n",
       "      <th></th>\n",
       "      <th>title_length</th>\n",
       "      <th>box_off_num</th>\n",
       "    </tr>\n",
       "  </thead>\n",
       "  <tbody>\n",
       "    <tr>\n",
       "      <th>title_length</th>\n",
       "      <td>1.000000</td>\n",
       "      <td>-0.085964</td>\n",
       "    </tr>\n",
       "    <tr>\n",
       "      <th>box_off_num</th>\n",
       "      <td>-0.085964</td>\n",
       "      <td>1.000000</td>\n",
       "    </tr>\n",
       "  </tbody>\n",
       "</table>\n",
       "</div>"
      ],
      "text/plain": [
       "              title_length  box_off_num\n",
       "title_length      1.000000    -0.085964\n",
       "box_off_num      -0.085964     1.000000"
      ]
     },
     "execution_count": 40,
     "metadata": {},
     "output_type": "execute_result"
    }
   ],
   "source": [
    "# 상관분석 결과 -0.08로 아무런 의미가 없다는 것을 알 수 있다.\n",
    "title_box_corr = df_train[['title_length','box_off_num']].corr(method='pearson')\n",
    "title_box_corr"
   ]
  },
  {
   "cell_type": "code",
   "execution_count": 46,
   "metadata": {},
   "outputs": [
    {
     "data": {
      "text/plain": [
       "<AxesSubplot:>"
      ]
     },
     "execution_count": 46,
     "metadata": {},
     "output_type": "execute_result"
    },
    {
     "data": {
      "image/png": "[encoded data removed]",
      "text/plain": [
       "<Figure size 360x360 with 2 Axes>"
      ]
     },
     "metadata": {},
     "output_type": "display_data"
    }
   ],
   "source": [
    "# 그래도 굳이 시각화를 해 보자면..\n",
    "f, ax = plt.subplots(1, 1, figsize=(5, 5))\n",
    "\n",
    "sns.heatmap(title_box_corr,\n",
    "           annot = True,\n",
    "           cmap = 'summer_r', \n",
    "           vmin = -1, vmax=1)"
   ]
  },
  {
   "cell_type": "markdown",
   "metadata": {},
   "source": [
    "> 영화 제목은 문장이 아니기 때문에 감성 분석을 해도 의미가 없을 것 같다. 결론은 Drop"
   ]
  },
  {
   "cell_type": "markdown",
   "metadata": {},
   "source": [
    "### distributor\n",
    "- 배급사"
   ]
  },
  {
   "cell_type": "code",
   "execution_count": 49,
   "metadata": {},
   "outputs": [
    {
     "data": {
      "text/plain": [
       "array(['롯데엔터테인먼트', '(주)쇼박스', '(주)NEW', '쇼박스(주)미디어플렉스', '백두대간',\n",
       "       '유니버설픽쳐스인터내셔널코리아', '(주)두타연', '(주) 케이알씨지', '(주)콘텐츠 윙', '(주)키노아이',\n",
       "       '(주)팝 파트너스', 'CJ E&M 영화부문', '(주) 영화제작전원사', 'CJ E&M Pictures',\n",
       "       'CGV 무비꼴라쥬', '리틀빅픽처스', '스폰지', 'CJ 엔터테인먼트', 'CGV아트하우스', '조이앤시네마',\n",
       "       '인디플러그', '콘텐츠판다', '인디스토리', '(주)팝엔터테인먼트', '시네마서비스', '웃기씨네',\n",
       "       '영화사 진진', '(주)레인보우 팩토리', '김기덕 필름', 'NEW', 'CJ CGV',\n",
       "       '동국대학교 충무로영상제작센터', 'BoXoo 엔터테인먼트', '(주)마운틴픽쳐스', 'CGV 아트하우스',\n",
       "       '메가박스(주)플러스엠', '골든타이드픽처스', '파이오니아21', '디 씨드', '드림팩트 엔터테인먼트', '시너지',\n",
       "       '디마엔터테인먼트', '판다미디어', '(주)스톰픽쳐스코리아', '(주)예지림 엔터테인먼트', '(주) 영화사조제',\n",
       "       '보람엔터테인먼트', '(주)시네마달', '노바엔터테인먼트', '(주)패스파인더씨앤씨', '(주)대명문화공장',\n",
       "       '(주)온비즈넷', 'KT&G 상상마당', '무비꼴라쥬', '인벤트 디', '씨네그루(주)키다리이엔티',\n",
       "       '스튜디오후크', '시네마 달', '나이너스엔터테인먼트(주)', 'THE 픽쳐스', '영구아트무비', '리틀빅픽쳐스',\n",
       "       '어뮤즈', '이모션 픽처스', '(주)이스트스카이필름', '필라멘트 픽쳐스', '조이앤컨텐츠그룹', '타임스토리그룹',\n",
       "       '마운틴 픽처스', '(주)휘엔터테인먼트', '이십세기폭스코리아(주)', '(주)피터팬픽쳐스', '에스와이코마드',\n",
       "       '(주)더픽쳐스', '오퍼스픽쳐스', '(주)고앤고 필름', '사람과 사람들', '(주)JK필름',\n",
       "       '씨너스엔터테인먼트(주)', 'KT', '싸이더스FNH', '(주)프레인글로벌', '나우콘텐츠', '홀리가든',\n",
       "       '(주) 브릿지웍스', '(주)엣나인필름', '위더스필름', '시네마달', '(주)에이원 엔터테인먼트',\n",
       "       'OAL(올)', '싸이더스', '전망좋은영화사', '스토리셋', '이상우필름', '씨네굿필름', '영희야놀자',\n",
       "       '찬란', '어썸 피플', '아방가르드 필름', '스크린조이', '와이드릴리즈(주)', 'tvN',\n",
       "       '(주) 액티버스엔터테인먼트', '더픽쳐스/(주)마운틴픽쳐스', '제나두 엔터테인먼트', '(주)아이필름코퍼레이션',\n",
       "       '쟈비스미디어', '트리필름', '에스피엠', '(주)리틀빅픽처스', '건시네마', '키노엔터테인먼트',\n",
       "       '(주)아우라픽처스', '에이블엔터테인먼트', '드림로드', '인피니티엔터테인먼트', '새인컴퍼니',\n",
       "       '스튜디오 느림보', '와이드 릴리즈(주)', '필름라인', 'M2픽처스', '고구마공작소', '(주)미디어데이',\n",
       "       '마노엔터테인먼트', '화앤담이엔티', '(주)스마일이엔티', '(주)패뷸러스', '싸이더스 FNH', '영화사 조아',\n",
       "       '판씨네마(주)', '두 엔터테인먼트', '(주)마인스 엔터테인먼트', '전주국제영화제', '(주)마인스엔터테인먼트',\n",
       "       '상구네 필름', '케이엠스타', '(주)유비네트워크', '한국YWCA연합회', 'KBS미디어(주)', '더 피플',\n",
       "       '위드시네마', '팜코리아미디어', '(주)씨엠닉스', 'SBS콘텐츠허브', '인터콘미디어', '(주)유비콘텐츠',\n",
       "       '프로젝트 엠피', '하준사', '(주)노버스엔터테인먼트', '주머니필름', '롤러코스터 프로덕션', 'SK플래닛',\n",
       "       '서울독립영화제', '스튜디오 블루', '(주)랠리버튼', '(주)드림팩트엔터테인먼트', '에이원 엔터테인먼트',\n",
       "       '머스트 씨 무비', 'SK텔레콤(주)', '마법사필름', '스폰지이엔티', '(주)로드하우스', '미라클 필름',\n",
       "       '프리비젼 엔터테인먼트', '영화사 廊', '크리에이티브컴즈(주)', 'ysfilm', '이달투', '퍼스트런'],\n",
       "      dtype=object)"
      ]
     },
     "execution_count": 49,
     "metadata": {},
     "output_type": "execute_result"
    }
   ],
   "source": [
    "# unique를 찍어보면 역시나 엄청 많다\n",
    "df_train['distributor'].unique()"
   ]
  },
  {
   "cell_type": "code",
   "execution_count": 50,
   "metadata": {},
   "outputs": [
    {
     "data": {
      "text/plain": [
       "169"
      ]
     },
     "execution_count": 50,
     "metadata": {},
     "output_type": "execute_result"
    }
   ],
   "source": [
    "len(df_train['distributor'].unique())"
   ]
  },
  {
   "cell_type": "markdown",
   "metadata": {},
   "source": [
    "- 배급사는 169개가 있으므로, title과 달리 배급사와 영화는 일대다 관계인 것이다.\n",
    "- 즉, 어떤 배급사에서는 많은 영화를 배급했을 것이고, 이는 배급사의 영향력, 회사 규모와 관련이 있을 것이다.\n",
    "- 배급한 영화 수가 많은 경우 해당 영화의 영화관을 더 많이 확보했을 가능성이 높으므로, 관객 수와 비례 관계가 있을 것으로 가정할 수 있겠다."
   ]
  },
  {
   "cell_type": "code",
   "execution_count": 57,
   "metadata": {},
   "outputs": [
    {
     "data": {
      "text/plain": [
       "distributor\n",
       "CJ 엔터테인먼트          116788093\n",
       "(주)쇼박스              88053064\n",
       "(주)NEW              65532145\n",
       "롯데엔터테인먼트            64383745\n",
       "CJ E&M Pictures      8244674\n",
       "                     ...    \n",
       "나우콘텐츠                     54\n",
       "위드시네마                     46\n",
       "사람과 사람들                   42\n",
       "고구마공작소                     8\n",
       "인피니티엔터테인먼트                 2\n",
       "Name: box_off_num, Length: 169, dtype: int64"
      ]
     },
     "execution_count": 57,
     "metadata": {},
     "output_type": "execute_result"
    }
   ],
   "source": [
    "# 배급사별 영화 수 확인\n",
    "df_train.groupby('distributor')['box_off_num'].sum().sort_values(ascending=False)"
   ]
  },
  {
   "cell_type": "code",
   "execution_count": 59,
   "metadata": {},
   "outputs": [
    {
     "data": {
      "text/html": [
       "<div>\n",
       "<style scoped>\n",
       "    .dataframe tbody tr th:only-of-type {\n",
       "        vertical-align: middle;\n",
       "    }\n",
       "\n",
       "    .dataframe tbody tr th {\n",
       "        vertical-align: top;\n",
       "    }\n",
       "\n",
       "    .dataframe thead th {\n",
       "        text-align: right;\n",
       "    }\n",
       "</style>\n",
       "<table border=\"1\" class=\"dataframe\">\n",
       "  <thead>\n",
       "    <tr style=\"text-align: right;\">\n",
       "      <th></th>\n",
       "      <th>box_off_num</th>\n",
       "    </tr>\n",
       "    <tr>\n",
       "      <th>distributor</th>\n",
       "      <th></th>\n",
       "    </tr>\n",
       "  </thead>\n",
       "  <tbody>\n",
       "    <tr>\n",
       "      <th>CJ 엔터테인먼트</th>\n",
       "      <td>116788093</td>\n",
       "    </tr>\n",
       "    <tr>\n",
       "      <th>(주)쇼박스</th>\n",
       "      <td>88053064</td>\n",
       "    </tr>\n",
       "    <tr>\n",
       "      <th>(주)NEW</th>\n",
       "      <td>65532145</td>\n",
       "    </tr>\n",
       "    <tr>\n",
       "      <th>롯데엔터테인먼트</th>\n",
       "      <td>64383745</td>\n",
       "    </tr>\n",
       "    <tr>\n",
       "      <th>CJ E&amp;M Pictures</th>\n",
       "      <td>8244674</td>\n",
       "    </tr>\n",
       "    <tr>\n",
       "      <th>...</th>\n",
       "      <td>...</td>\n",
       "    </tr>\n",
       "    <tr>\n",
       "      <th>나우콘텐츠</th>\n",
       "      <td>54</td>\n",
       "    </tr>\n",
       "    <tr>\n",
       "      <th>위드시네마</th>\n",
       "      <td>46</td>\n",
       "    </tr>\n",
       "    <tr>\n",
       "      <th>사람과 사람들</th>\n",
       "      <td>42</td>\n",
       "    </tr>\n",
       "    <tr>\n",
       "      <th>고구마공작소</th>\n",
       "      <td>8</td>\n",
       "    </tr>\n",
       "    <tr>\n",
       "      <th>인피니티엔터테인먼트</th>\n",
       "      <td>2</td>\n",
       "    </tr>\n",
       "  </tbody>\n",
       "</table>\n",
       "<p>169 rows × 1 columns</p>\n",
       "</div>"
      ],
      "text/plain": [
       "                 box_off_num\n",
       "distributor                 \n",
       "CJ 엔터테인먼트          116788093\n",
       "(주)쇼박스              88053064\n",
       "(주)NEW              65532145\n",
       "롯데엔터테인먼트            64383745\n",
       "CJ E&M Pictures      8244674\n",
       "...                      ...\n",
       "나우콘텐츠                     54\n",
       "위드시네마                     46\n",
       "사람과 사람들                   42\n",
       "고구마공작소                     8\n",
       "인피니티엔터테인먼트                 2\n",
       "\n",
       "[169 rows x 1 columns]"
      ]
     },
     "execution_count": 59,
     "metadata": {},
     "output_type": "execute_result"
    }
   ],
   "source": [
    "df_train_distributor = pd.DataFrame(df_train.groupby('distributor')['box_off_num'].sum().sort_values(ascending=False))\n",
    "df_train_distributor"
   ]
  },
  {
   "cell_type": "code",
   "execution_count": 64,
   "metadata": {},
   "outputs": [],
   "source": [
    "### distributor 시각화"
   ]
  },
  {
   "cell_type": "code",
   "execution_count": 52,
   "metadata": {},
   "outputs": [],
   "source": [
    "# 국내 배급사 매출 순위와 일치하는지 확인"
   ]
  },
  {
   "cell_type": "code",
   "execution_count": 53,
   "metadata": {},
   "outputs": [],
   "source": [
    "# 배급사별 영화 수가 상위 x%인 배급사를 제외하고는 큰 영향을 미치지 않을 것이므로 기타로 처리"
   ]
  },
  {
   "cell_type": "markdown",
   "metadata": {},
   "source": [
    "### genre\n",
    "- 장르\n",
    "- 장르는 취향의 차이이므로 관객 수와의 상관관계는 낮을 것으로 생각된다.\n",
    "- 다만, 액션이나 드라마 같은 장르는 비교적 대중적이므로 스릴러와 같은 장르에 비해서는 더 인기가 있을 것으로 생각된다."
   ]
  },
  {
   "cell_type": "code",
   "execution_count": null,
   "metadata": {},
   "outputs": [],
   "source": [
    "\n"
   ]
  },
  {
   "cell_type": "markdown",
   "metadata": {},
   "source": [
    "### release_time\n",
    "- 개봉일"
   ]
  },
  {
   "cell_type": "code",
   "execution_count": null,
   "metadata": {},
   "outputs": [],
   "source": []
  },
  {
   "cell_type": "markdown",
   "metadata": {},
   "source": [
    "### time\n",
    "- 상영시간 (분)"
   ]
  },
  {
   "cell_type": "code",
   "execution_count": null,
   "metadata": {},
   "outputs": [],
   "source": []
  },
  {
   "cell_type": "markdown",
   "metadata": {},
   "source": [
    "### screening_rat\n",
    "- 상영등급"
   ]
  },
  {
   "cell_type": "code",
   "execution_count": null,
   "metadata": {},
   "outputs": [],
   "source": []
  },
  {
   "cell_type": "markdown",
   "metadata": {},
   "source": [
    "### director\n",
    "- 감독 이름"
   ]
  },
  {
   "cell_type": "code",
   "execution_count": null,
   "metadata": {},
   "outputs": [],
   "source": []
  },
  {
   "cell_type": "markdown",
   "metadata": {},
   "source": [
    "### dir_prev_bfnum\n",
    "- 해당 감독이 이 영화를 만들기 전 제작에 참여한 영화에서의 평균 관객수 (단 관객수가 알려지지 않은 영화 제외)"
   ]
  },
  {
   "cell_type": "code",
   "execution_count": null,
   "metadata": {},
   "outputs": [],
   "source": []
  },
  {
   "cell_type": "markdown",
   "metadata": {},
   "source": [
    "### dir_prev_num\n",
    "- 해당 감독이 이 영화를 만들기 전 제작에 참여한 영화의 개수 (단 관객수가 알려지지 않은 영화 제외)"
   ]
  },
  {
   "cell_type": "code",
   "execution_count": null,
   "metadata": {},
   "outputs": [],
   "source": []
  },
  {
   "cell_type": "markdown",
   "metadata": {},
   "source": [
    "### num_staff\n",
    "- 스태프 수"
   ]
  },
  {
   "cell_type": "code",
   "execution_count": null,
   "metadata": {},
   "outputs": [],
   "source": []
  },
  {
   "cell_type": "markdown",
   "metadata": {},
   "source": [
    "### num_actor\n",
    "- 주연 배우 수"
   ]
  },
  {
   "cell_type": "code",
   "execution_count": null,
   "metadata": {},
   "outputs": [],
   "source": []
  },
  {
   "cell_type": "markdown",
   "metadata": {},
   "source": [
    "### box_off_num\n",
    "- Label, 관객 수"
   ]
  },
  {
   "cell_type": "code",
   "execution_count": null,
   "metadata": {},
   "outputs": [],
   "source": []
  },
  {
   "cell_type": "code",
   "execution_count": null,
   "metadata": {},
   "outputs": [],
   "source": []
  },
  {
   "cell_type": "markdown",
   "metadata": {},
   "source": [
    "### 상관 분석"
   ]
  },
  {
   "cell_type": "code",
   "execution_count": null,
   "metadata": {},
   "outputs": [],
   "source": []
  },
  {
   "cell_type": "markdown",
   "metadata": {},
   "source": [
    "# Preprocessing"
   ]
  },
  {
   "cell_type": "markdown",
   "metadata": {},
   "source": [
    "### Missing Values"
   ]
  },
  {
   "cell_type": "markdown",
   "metadata": {},
   "source": [
    "### One Hot Encoding"
   ]
  },
  {
   "cell_type": "code",
   "execution_count": null,
   "metadata": {},
   "outputs": [],
   "source": []
  },
  {
   "cell_type": "code",
   "execution_count": null,
   "metadata": {},
   "outputs": [],
   "source": []
  },
  {
   "cell_type": "code",
   "execution_count": null,
   "metadata": {},
   "outputs": [],
   "source": []
  },
  {
   "cell_type": "markdown",
   "metadata": {},
   "source": [
    "# Modeling"
   ]
  },
  {
   "cell_type": "code",
   "execution_count": null,
   "metadata": {},
   "outputs": [],
   "source": []
  },
  {
   "cell_type": "markdown",
   "metadata": {},
   "source": [
    "# Prediction"
   ]
  },
  {
   "cell_type": "code",
   "execution_count": null,
   "metadata": {},
   "outputs": [],
   "source": [
    "prediction = model.predict(test)"
   ]
  },
  {
   "cell_type": "code",
   "execution_count": null,
   "metadata": {},
   "outputs": [],
   "source": [
    "# score"
   ]
  },
  {
   "cell_type": "markdown",
   "metadata": {},
   "source": [
    "# Submission"
   ]
  },
  {
   "cell_type": "code",
   "execution_count": 8,
   "metadata": {},
   "outputs": [
    {
     "data": {
      "text/html": [
       "<div>\n",
       "<style scoped>\n",
       "    .dataframe tbody tr th:only-of-type {\n",
       "        vertical-align: middle;\n",
       "    }\n",
       "\n",
       "    .dataframe tbody tr th {\n",
       "        vertical-align: top;\n",
       "    }\n",
       "\n",
       "    .dataframe thead th {\n",
       "        text-align: right;\n",
       "    }\n",
       "</style>\n",
       "<table border=\"1\" class=\"dataframe\">\n",
       "  <thead>\n",
       "    <tr style=\"text-align: right;\">\n",
       "      <th></th>\n",
       "      <th>title</th>\n",
       "      <th>box_off_num</th>\n",
       "    </tr>\n",
       "  </thead>\n",
       "  <tbody>\n",
       "    <tr>\n",
       "      <th>0</th>\n",
       "      <td>용서는 없다</td>\n",
       "      <td>0</td>\n",
       "    </tr>\n",
       "    <tr>\n",
       "      <th>1</th>\n",
       "      <td>아빠가 여자를 좋아해</td>\n",
       "      <td>0</td>\n",
       "    </tr>\n",
       "    <tr>\n",
       "      <th>2</th>\n",
       "      <td>하모니</td>\n",
       "      <td>0</td>\n",
       "    </tr>\n",
       "    <tr>\n",
       "      <th>3</th>\n",
       "      <td>의형제</td>\n",
       "      <td>0</td>\n",
       "    </tr>\n",
       "    <tr>\n",
       "      <th>4</th>\n",
       "      <td>평행 이론</td>\n",
       "      <td>0</td>\n",
       "    </tr>\n",
       "    <tr>\n",
       "      <th>...</th>\n",
       "      <td>...</td>\n",
       "      <td>...</td>\n",
       "    </tr>\n",
       "    <tr>\n",
       "      <th>238</th>\n",
       "      <td>해에게서 소년에게</td>\n",
       "      <td>0</td>\n",
       "    </tr>\n",
       "    <tr>\n",
       "      <th>239</th>\n",
       "      <td>울보 권투부</td>\n",
       "      <td>0</td>\n",
       "    </tr>\n",
       "    <tr>\n",
       "      <th>240</th>\n",
       "      <td>어떤살인</td>\n",
       "      <td>0</td>\n",
       "    </tr>\n",
       "    <tr>\n",
       "      <th>241</th>\n",
       "      <td>말하지 못한 비밀</td>\n",
       "      <td>0</td>\n",
       "    </tr>\n",
       "    <tr>\n",
       "      <th>242</th>\n",
       "      <td>조선안방 스캔들-칠거지악 2</td>\n",
       "      <td>0</td>\n",
       "    </tr>\n",
       "  </tbody>\n",
       "</table>\n",
       "<p>243 rows × 2 columns</p>\n",
       "</div>"
      ],
      "text/plain": [
       "               title  box_off_num\n",
       "0             용서는 없다            0\n",
       "1        아빠가 여자를 좋아해            0\n",
       "2                하모니            0\n",
       "3                의형제            0\n",
       "4              평행 이론            0\n",
       "..               ...          ...\n",
       "238        해에게서 소년에게            0\n",
       "239           울보 권투부            0\n",
       "240             어떤살인            0\n",
       "241        말하지 못한 비밀            0\n",
       "242  조선안방 스캔들-칠거지악 2            0\n",
       "\n",
       "[243 rows x 2 columns]"
      ]
     },
     "execution_count": 8,
     "metadata": {},
     "output_type": "execute_result"
    }
   ],
   "source": [
    "submission = pd.read_csv('data/submission.csv')\n",
    "submission"
   ]
  },
  {
   "cell_type": "code",
   "execution_count": 11,
   "metadata": {},
   "outputs": [],
   "source": [
    "# submission['box_off_num'] = prediction\n",
    "# submission"
   ]
  },
  {
   "cell_type": "code",
   "execution_count": 25,
   "metadata": {},
   "outputs": [
    {
     "data": {
      "text/plain": [
       "'20221221'"
      ]
     },
     "execution_count": 25,
     "metadata": {},
     "output_type": "execute_result"
    }
   ],
   "source": [
    "# timestr = time.strftime(\"%Y%m%d\")"
   ]
  },
  {
   "cell_type": "code",
   "execution_count": 10,
   "metadata": {},
   "outputs": [],
   "source": [
    "# submission.to_csv('.csv',index = False)"
   ]
  },
  {
   "cell_type": "code",
   "execution_count": null,
   "metadata": {},
   "outputs": [],
   "source": []
  }
 ],
 "metadata": {
  "kernelspec": {
   "display_name": "Python 3",
   "language": "python",
   "name": "python3"
  },
  "language_info": {
   "codemirror_mode": {
    "name": "ipython",
    "version": 3
   },
   "file_extension": ".py",
   "mimetype": "text/x-python",
   "name": "python",
   "nbconvert_exporter": "python",
   "pygments_lexer": "ipython3",
   "version": "3.7.4"
  }
 },
 "nbformat": 4,
 "nbformat_minor": 4
}
