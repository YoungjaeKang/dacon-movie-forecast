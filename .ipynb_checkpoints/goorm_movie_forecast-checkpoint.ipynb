{
 "cells": [
  {
   "cell_type": "markdown",
   "metadata": {},
   "source": [
    "# Import Libraries"
   ]
  },
  {
   "cell_type": "code",
   "execution_count": 19,
   "metadata": {},
   "outputs": [],
   "source": [
    "import datetime\n",
    "import time\n",
    "\n",
    "import pandas as pd\n",
    "\n",
    "from sklearn.ensemble import RandomForestRegressor"
   ]
  },
  {
   "cell_type": "markdown",
   "metadata": {},
   "source": [
    "# Load Dataset"
   ]
  },
  {
   "cell_type": "code",
   "execution_count": 26,
   "metadata": {},
   "outputs": [],
   "source": [
    "df_train = pd.read_csv('data/movies_train.csv')\n",
    "df_test = pd.read_csv('data/movies_test.csv')"
   ]
  },
  {
   "cell_type": "markdown",
   "metadata": {},
   "source": [
    "# Explore Dataset"
   ]
  },
  {
   "cell_type": "code",
   "execution_count": 27,
   "metadata": {},
   "outputs": [
    {
     "name": "stdout",
     "output_type": "stream",
     "text": [
      "<class 'pandas.core.frame.DataFrame'>\n",
      "RangeIndex: 600 entries, 0 to 599\n",
      "Data columns (total 12 columns):\n",
      " #   Column          Non-Null Count  Dtype  \n",
      "---  ------          --------------  -----  \n",
      " 0   title           600 non-null    object \n",
      " 1   distributor     600 non-null    object \n",
      " 2   genre           600 non-null    object \n",
      " 3   release_time    600 non-null    object \n",
      " 4   time            600 non-null    int64  \n",
      " 5   screening_rat   600 non-null    object \n",
      " 6   director        600 non-null    object \n",
      " 7   dir_prev_bfnum  270 non-null    float64\n",
      " 8   dir_prev_num    600 non-null    int64  \n",
      " 9   num_staff       600 non-null    int64  \n",
      " 10  num_actor       600 non-null    int64  \n",
      " 11  box_off_num     600 non-null    int64  \n",
      "dtypes: float64(1), int64(5), object(6)\n",
      "memory usage: 56.4+ KB\n"
     ]
    }
   ],
   "source": [
    "df_train.info()"
   ]
  },
  {
   "cell_type": "code",
   "execution_count": 40,
   "metadata": {},
   "outputs": [
    {
     "data": {
      "text/html": [
       "<div>\n",
       "<style scoped>\n",
       "    .dataframe tbody tr th:only-of-type {\n",
       "        vertical-align: middle;\n",
       "    }\n",
       "\n",
       "    .dataframe tbody tr th {\n",
       "        vertical-align: top;\n",
       "    }\n",
       "\n",
       "    .dataframe thead th {\n",
       "        text-align: right;\n",
       "    }\n",
       "</style>\n",
       "<table border=\"1\" class=\"dataframe\">\n",
       "  <thead>\n",
       "    <tr style=\"text-align: right;\">\n",
       "      <th></th>\n",
       "      <th>title</th>\n",
       "      <th>distributor</th>\n",
       "      <th>genre</th>\n",
       "      <th>release_time</th>\n",
       "      <th>time</th>\n",
       "      <th>screening_rat</th>\n",
       "      <th>director</th>\n",
       "      <th>dir_prev_bfnum</th>\n",
       "      <th>dir_prev_num</th>\n",
       "      <th>num_staff</th>\n",
       "      <th>num_actor</th>\n",
       "      <th>box_off_num</th>\n",
       "    </tr>\n",
       "  </thead>\n",
       "  <tbody>\n",
       "    <tr>\n",
       "      <th>0</th>\n",
       "      <td>개들의 전쟁</td>\n",
       "      <td>롯데엔터테인먼트</td>\n",
       "      <td>액션</td>\n",
       "      <td>2012-11-22</td>\n",
       "      <td>96</td>\n",
       "      <td>청소년 관람불가</td>\n",
       "      <td>조병옥</td>\n",
       "      <td>NaN</td>\n",
       "      <td>0</td>\n",
       "      <td>91</td>\n",
       "      <td>2</td>\n",
       "      <td>23398</td>\n",
       "    </tr>\n",
       "    <tr>\n",
       "      <th>1</th>\n",
       "      <td>내부자들</td>\n",
       "      <td>(주)쇼박스</td>\n",
       "      <td>느와르</td>\n",
       "      <td>2015-11-19</td>\n",
       "      <td>130</td>\n",
       "      <td>청소년 관람불가</td>\n",
       "      <td>우민호</td>\n",
       "      <td>1161602.50</td>\n",
       "      <td>2</td>\n",
       "      <td>387</td>\n",
       "      <td>3</td>\n",
       "      <td>7072501</td>\n",
       "    </tr>\n",
       "    <tr>\n",
       "      <th>2</th>\n",
       "      <td>은밀하게 위대하게</td>\n",
       "      <td>(주)쇼박스</td>\n",
       "      <td>액션</td>\n",
       "      <td>2013-06-05</td>\n",
       "      <td>123</td>\n",
       "      <td>15세 관람가</td>\n",
       "      <td>장철수</td>\n",
       "      <td>220775.25</td>\n",
       "      <td>4</td>\n",
       "      <td>343</td>\n",
       "      <td>4</td>\n",
       "      <td>6959083</td>\n",
       "    </tr>\n",
       "  </tbody>\n",
       "</table>\n",
       "</div>"
      ],
      "text/plain": [
       "       title distributor genre release_time  time screening_rat director  \\\n",
       "0     개들의 전쟁    롯데엔터테인먼트    액션   2012-11-22    96      청소년 관람불가      조병옥   \n",
       "1       내부자들      (주)쇼박스   느와르   2015-11-19   130      청소년 관람불가      우민호   \n",
       "2  은밀하게 위대하게      (주)쇼박스    액션   2013-06-05   123       15세 관람가      장철수   \n",
       "\n",
       "   dir_prev_bfnum  dir_prev_num  num_staff  num_actor  box_off_num  \n",
       "0             NaN             0         91          2        23398  \n",
       "1      1161602.50             2        387          3      7072501  \n",
       "2       220775.25             4        343          4      6959083  "
      ]
     },
     "execution_count": 40,
     "metadata": {},
     "output_type": "execute_result"
    }
   ],
   "source": [
    "df_train.head(3)"
   ]
  },
  {
   "cell_type": "code",
   "execution_count": 29,
   "metadata": {},
   "outputs": [
    {
     "name": "stdout",
     "output_type": "stream",
     "text": [
      "<class 'pandas.core.frame.DataFrame'>\n",
      "RangeIndex: 243 entries, 0 to 242\n",
      "Data columns (total 11 columns):\n",
      " #   Column          Non-Null Count  Dtype  \n",
      "---  ------          --------------  -----  \n",
      " 0   title           243 non-null    object \n",
      " 1   distributor     243 non-null    object \n",
      " 2   genre           243 non-null    object \n",
      " 3   release_time    243 non-null    object \n",
      " 4   time            243 non-null    int64  \n",
      " 5   screening_rat   243 non-null    object \n",
      " 6   director        243 non-null    object \n",
      " 7   dir_prev_bfnum  107 non-null    float64\n",
      " 8   dir_prev_num    243 non-null    int64  \n",
      " 9   num_staff       243 non-null    int64  \n",
      " 10  num_actor       243 non-null    int64  \n",
      "dtypes: float64(1), int64(4), object(6)\n",
      "memory usage: 21.0+ KB\n"
     ]
    }
   ],
   "source": [
    "df_test.info()"
   ]
  },
  {
   "cell_type": "code",
   "execution_count": 41,
   "metadata": {},
   "outputs": [
    {
     "data": {
      "text/html": [
       "<div>\n",
       "<style scoped>\n",
       "    .dataframe tbody tr th:only-of-type {\n",
       "        vertical-align: middle;\n",
       "    }\n",
       "\n",
       "    .dataframe tbody tr th {\n",
       "        vertical-align: top;\n",
       "    }\n",
       "\n",
       "    .dataframe thead th {\n",
       "        text-align: right;\n",
       "    }\n",
       "</style>\n",
       "<table border=\"1\" class=\"dataframe\">\n",
       "  <thead>\n",
       "    <tr style=\"text-align: right;\">\n",
       "      <th></th>\n",
       "      <th>title</th>\n",
       "      <th>distributor</th>\n",
       "      <th>genre</th>\n",
       "      <th>release_time</th>\n",
       "      <th>time</th>\n",
       "      <th>screening_rat</th>\n",
       "      <th>director</th>\n",
       "      <th>dir_prev_bfnum</th>\n",
       "      <th>dir_prev_num</th>\n",
       "      <th>num_staff</th>\n",
       "      <th>num_actor</th>\n",
       "    </tr>\n",
       "  </thead>\n",
       "  <tbody>\n",
       "    <tr>\n",
       "      <th>0</th>\n",
       "      <td>용서는 없다</td>\n",
       "      <td>시네마서비스</td>\n",
       "      <td>느와르</td>\n",
       "      <td>2010-01-07</td>\n",
       "      <td>125</td>\n",
       "      <td>청소년 관람불가</td>\n",
       "      <td>김형준</td>\n",
       "      <td>3.005290e+05</td>\n",
       "      <td>2</td>\n",
       "      <td>304</td>\n",
       "      <td>3</td>\n",
       "    </tr>\n",
       "    <tr>\n",
       "      <th>1</th>\n",
       "      <td>아빠가 여자를 좋아해</td>\n",
       "      <td>(주)쇼박스</td>\n",
       "      <td>멜로/로맨스</td>\n",
       "      <td>2010-01-14</td>\n",
       "      <td>113</td>\n",
       "      <td>12세 관람가</td>\n",
       "      <td>이광재</td>\n",
       "      <td>3.427002e+05</td>\n",
       "      <td>4</td>\n",
       "      <td>275</td>\n",
       "      <td>3</td>\n",
       "    </tr>\n",
       "    <tr>\n",
       "      <th>2</th>\n",
       "      <td>하모니</td>\n",
       "      <td>CJ 엔터테인먼트</td>\n",
       "      <td>드라마</td>\n",
       "      <td>2010-01-28</td>\n",
       "      <td>115</td>\n",
       "      <td>12세 관람가</td>\n",
       "      <td>강대규</td>\n",
       "      <td>4.206611e+06</td>\n",
       "      <td>3</td>\n",
       "      <td>419</td>\n",
       "      <td>7</td>\n",
       "    </tr>\n",
       "  </tbody>\n",
       "</table>\n",
       "</div>"
      ],
      "text/plain": [
       "         title distributor   genre release_time  time screening_rat director  \\\n",
       "0       용서는 없다      시네마서비스     느와르   2010-01-07   125      청소년 관람불가      김형준   \n",
       "1  아빠가 여자를 좋아해      (주)쇼박스  멜로/로맨스   2010-01-14   113       12세 관람가      이광재   \n",
       "2          하모니   CJ 엔터테인먼트     드라마   2010-01-28   115       12세 관람가      강대규   \n",
       "\n",
       "   dir_prev_bfnum  dir_prev_num  num_staff  num_actor  \n",
       "0    3.005290e+05             2        304          3  \n",
       "1    3.427002e+05             4        275          3  \n",
       "2    4.206611e+06             3        419          7  "
      ]
     },
     "execution_count": 41,
     "metadata": {},
     "output_type": "execute_result"
    }
   ],
   "source": [
    "df_test.head(3)"
   ]
  },
  {
   "cell_type": "markdown",
   "metadata": {},
   "source": [
    "### 결측치 확인"
   ]
  },
  {
   "cell_type": "code",
   "execution_count": 35,
   "metadata": {},
   "outputs": [
    {
     "data": {
      "text/plain": [
       "title               0\n",
       "distributor         0\n",
       "genre               0\n",
       "release_time        0\n",
       "time                0\n",
       "screening_rat       0\n",
       "director            0\n",
       "dir_prev_bfnum    330\n",
       "dir_prev_num        0\n",
       "num_staff           0\n",
       "num_actor           0\n",
       "box_off_num         0\n",
       "dtype: int64"
      ]
     },
     "execution_count": 35,
     "metadata": {},
     "output_type": "execute_result"
    }
   ],
   "source": [
    "df_train.isnull().sum()"
   ]
  },
  {
   "cell_type": "code",
   "execution_count": 36,
   "metadata": {
    "scrolled": true
   },
   "outputs": [
    {
     "data": {
      "text/plain": [
       "title               0\n",
       "distributor         0\n",
       "genre               0\n",
       "release_time        0\n",
       "time                0\n",
       "screening_rat       0\n",
       "director            0\n",
       "dir_prev_bfnum    136\n",
       "dir_prev_num        0\n",
       "num_staff           0\n",
       "num_actor           0\n",
       "dtype: int64"
      ]
     },
     "execution_count": 36,
     "metadata": {},
     "output_type": "execute_result"
    }
   ],
   "source": [
    "df_test.isnull().sum()"
   ]
  },
  {
   "cell_type": "markdown",
   "metadata": {},
   "source": [
    "> dir_prev_bfnum 외에는 결측치가 없어 수월하다. 다만, train 데이터의 dir_prev_bfnum은 결측치가 50%를 초과했으므로 추후 drop해야 할 것 같다."
   ]
  },
  {
   "cell_type": "markdown",
   "metadata": {},
   "source": [
    "### title\n",
    "- 제목"
   ]
  },
  {
   "cell_type": "code",
   "execution_count": 39,
   "metadata": {},
   "outputs": [
    {
     "data": {
      "text/plain": [
       "array(['개들의 전쟁', '내부자들', '은밀하게 위대하게', '나는 공무원이다', '불량남녀',\n",
       "       '강철대오 : 구국의 철가방', '길위에서', '회사원', '1789, 바스티유의 연인들', '청춘그루브',\n",
       "       'AV 아이돌', '무서운 집', '해로', '짓', '철가방 우수氏', '자유의 언덕', '써니',\n",
       "       '별이 빛나는 밤', '카트', '하하하', '두근두근 내 인생', '성실한 나라의 앨리스', '원령',\n",
       "       '관능의 법칙', '안녕, 투이', '영도', '이웃집 좀비', '러브앤서울 복숭아마을 도색소동기', '무법자',\n",
       "       '일탈여행 : 프라이빗 아일랜드', '로맨틱 헤븐', '겨울나비', '다이노 타임', '물 없는 바다',\n",
       "       '오싹한 연애', '마이 페어 웨딩', '원나잇 온리', '일대일', '하늘의 황금마차', '러브픽션',\n",
       "       '불타는 내 마음', '끝과 시작', '7월 32일', '청춘학당 : 풍기문란 보쌈 야사', '부당거래',\n",
       "       '콘돌은 날아간다', '페어 러브', '극적인 하룻밤', '빅매치',\n",
       "       '극장판 뛰뛰빵빵 구조대 미션: 둥둥이를 구하라!', '황구', '워킹걸',\n",
       "       '나의 선택 - 잊혀진 가방 그 못다한 이야기', '에스엠타운 더 스테이지', '미조', '원더풀 라디오', '막걸스',\n",
       "       '미궁: 비밀애', '파괴된 사나이', '친구 2', '              개를 훔치는 완벽한 방법',\n",
       "       '청춘정담', '이방인들', '간첩', '그 참을 수 없는 맛', '도리화가', '의뢰인', '열정같은소리하고있네',\n",
       "       '화끈한 써비스: 어느 잔인한 미용사의', '세상끝의 사랑', '어디로 갈까요?', '완전 소중한 사랑',\n",
       "       '사물의 비밀', '청포도 사탕: 17년 전의 약속', '아저씨', '원 오브 어 카인드 3D', '사랑이 무서워',\n",
       "       '검은손', '덕수리 5형제', '별일아니다', '바비', '심야의 FM', '만추', '레인보우', '더 파이브',\n",
       "       '두 개의 선', '반창꼬', '먹이사슬', '야누스: 욕망의 두 얼굴', '거짓말', '인간중독', '무적자',\n",
       "       '두 번의 결혼식과 한 번의 장례식', '화창한 그날들', '렛 미 아웃', '경복', '잉투기', '사이비',\n",
       "       '두 개의 달', '신이 보낸 사람', '26년', '관상', '비념', '퇴마: 무녀굴', '풍산개', '맨홀',\n",
       "       '봄', '미국의 바람과 불', '레드마리아', '카페 서울', '차형사', '여행',\n",
       "       '범죄와의 전쟁: 나쁜놈들 전성시대', '열여덟, 열아홉', '무명인', '북촌방향', '오늘의 연애',\n",
       "       '그 사람 그 사랑 그 세상', '라스트 갓파더', '소녀괴담', '미스진은 예쁘다', '개똥이', '변호인',\n",
       "       '아빠를 빌려드립니다', '역린', '하쿠나 마타타 - 지라니 이야기', '울지마, 톤즈', '심장이 뛰네',\n",
       "       '조선명탐정 : 각시투구꽃의 비밀', '기생령', '고녀석 맛나겠다2 : 함께라서 행복해', '피에타',\n",
       "       '나의 독재자', '심도', '이별계약', '방가? 방가!', '아버지의 이메일', '죽이고 싶은', '거인',\n",
       "       '고지전', '미나문방구', '하이프 네이션 : 힙합사기꾼', 'Mr.아이돌', '시선', '어우동: 주인 없는 꽃',\n",
       "       '돼지의 왕', '통증', '정글피쉬2', '소셜포비아', '못', '완벽한 파트너', '희망의 별 - 이퀘지레템바',\n",
       "       '귀접', '첫사랑 열전', '우리는 그곳에 있었다', '슈퍼스타', '슬로우 비디오', '챔프', '멋진 인생',\n",
       "       '나도 때론 포르노그라피의 주인공이고 싶다', '어쿠스틱', '아부의 왕', '설지', '그리움의 종착역',\n",
       "       '지금은맞고그때는틀리다', '그리울 련', '7광구', '모래가 흐르는 강', '망대', '아이들...', '폭풍전야',\n",
       "       '아일랜드 - 시간을 훔치는 섬', '들꽃', '법정스님의 의자', '위험한 상견례 2', '악인은 너무 많다',\n",
       "       '여덟 번의 감정', '90분', '조선명탐정 : 사라진 놉의 딸', '응징자', '내 깡패 같은 애인', '결혼전야',\n",
       "       '혈투', '고사 두 번째 이야기: 교생실습', '그랑프리', '파닥파닥', '나탈리', '잠 못 드는 밤',\n",
       "       '권법형사 : 차이나타운', '명왕성', '부러진 화살', '꾸루꾸루와 친구들: 무지개 나무의 비밀', '레드카펫',\n",
       "       '러브멘토', '미션스쿨', '쥬로링 동물탐정 극장판', '사토미를 찾아라', '만신',\n",
       "       '18: 우리들의 성장 느와르', '시티 오브 크레인', '돌연변이', '강남 1970', '사랑해! 진영아',\n",
       "       '논픽션 다이어리', '다이빙벨: 진실은 침몰하지 않습니다', '소중한 날의 꿈', '또 하나의 약속',\n",
       "       '소규모 아카시아 밴드 이야기', '하녀', '이끼', '살인재능', '한여름의 판타지아', '땅의 여자',\n",
       "       '세계일주', '초능력자', '짓2: 붉은 낙타', '나비와 바다', '함정', '고령화 가족', '집으로 가는 길',\n",
       "       '런닝맨', '뽕똘', '바다', '다우더', '시바, 인생을 던져', '생생활활', '육혈포 강도단',\n",
       "       '나를 닮은 얼굴', '회복', '메이드 인 차이나', '이층의 악당', '뒷담화: 감독이 미쳤어요',\n",
       "       '에일리언 비키니', '친애하는 지도자동지께', '죽지않아', '왕자가 된 소녀들', '꿍따리 유랑단', '관계',\n",
       "       '미쓰 마마', '개: dog eat dog', '씨, 베토벤', '곤충왕국 3D', '나는 나비', '파티51',\n",
       "       '그대를 사랑합니다', '기적의 피아노', '풍경', '마이 플레이스', '철암 계곡의 혈투', '기화',\n",
       "       '배꼽과 무릎사이', '로사', '나는 왕이로소이다', '시간의 숲', '특수본', '누구에게나 찬란한',\n",
       "       '태아 3D', '러시안 소설', '노리개', '한공주', '우리들의 헤어진 여자친구', '비밀애',\n",
       "       '굿바이 그리고 헬로우', '은밀한 방문자', '지구대표 롤링스타즈', '젊은엄마 : 내 나이가 어때서',\n",
       "       '프랑스인 김명실', '님아, 그 강을 건너지 마오', '분노의 윤리학', '가시', '참을 수 없는',\n",
       "       '안녕? 오케스트라', '위선자들', '퀴즈왕', '탐욕의 제국', '아름다운 유산', '흉터',\n",
       "       '군사통제구역 팔이공지대', '감기', '숫호구', '반짝이는 박수 소리', '태양을 쏴라', '들개', '착한 처제',\n",
       "       '모차르트 타운', '파일:4022일의 사육', '밍크코트', '남자가 사랑할 때', '타워', '소명 하늘의 별',\n",
       "       '훈장과 악동들', '여의도', '내 심장을 쏴라', '멜로', '패밀리마트', '통통한 혁명', '가시꽃',\n",
       "       '시라노; 연애조작단', '소수의견', '조난자들', '오직 그대만', '넛잡: 땅콩 도둑들', '원 나잇 스탠드',\n",
       "       '가비', '60만번의 트라이', '자, 이제 댄스타임', '천안함 프로젝트', '당신은 아름답다', '영화판',\n",
       "       '레바논 감정', '순수의 시대', '가자! 장미여관으로 2 - 갈증', '집', '미안해 사랑해 고마워',\n",
       "       '가자, 장미여관으로', '영건 탐정사무소', '미션: 톱스타를 훔쳐라', '무산일기', '심장이 뛴다',\n",
       "       '우쿨렐레 사랑모임', '최종병기 활', '안녕, 전우치! 도술로봇대결전', '히말라야', '맛있는 인생', '청아',\n",
       "       '내 남자의 순이', '검은 사제들', '춤추는 숲', '배우는 배우다', '약장수', '마음이 2', '다른나라에서',\n",
       "       '철의 꿈', '블랙딜', '폴라로이드', '붉은 바캉스 검은 웨딩 2', '유신의 추억 - 다카키 마사오의 전성시대',\n",
       "       '스톤', '타부 : 금지된 사랑', '바보야', '너는 펫', '그녀가 부른다', '그리고 싶은 것', '야간비행',\n",
       "       '48미터', '빗자루, 금붕어 되다', '소와 함께 여행하는 법', '홍길동 2084', '결정적 한방',\n",
       "       '필름시대사랑', '페이스메이커', '굿바이, 평양', '몬스터', '시', '소명 2 - 모겐족의 월드컵',\n",
       "       '오디세오', '경성학교: 사라진 소녀들', '친정엄마', '카운트다운', '연애의 기술', '쎄시봉', '더 폰',\n",
       "       '도둑들', '꿈의 공장', '달팽이의 별', '경주', '계몽영화', '치외법권', '친절한 가정부',\n",
       "       '잉여들의 히치하이킹', '녹색의자 2013 - 러브 컨셉츄얼리', '사사건건', '국제시장', '앵두야, 연애하자',\n",
       "       '비치하트애솔', '행복한 울릉인', '뭘 또 그렇게까지', '내부자들: 디 오리지널', '열한시',\n",
       "       '미확인 동영상 : 절대클릭금지', '화장', '마당을 나온 암탉', '퍼펙트 게임', '여배우는 너무해',\n",
       "       '복숭아나무', '방독피', '캐릭터', '백프로', '공모자들', '무게', '로맨스 조', '명령불복종 교사',\n",
       "       '영도다리', '건축학개론', '인피니트 콘서트 세컨드 인베이전 에볼루션 더 무비 3D', '주유소 습격사건 2',\n",
       "       '달빛 길어올리기', '헬로우 고스트', '평양성', '피끓는 청춘', '돈의 맛', '야관문 : 욕망의 꽃',\n",
       "       '열애', '설인', '태어나서 미안해', '깔깔깔 희망버스', '내가 고백을 하면', '다이빙벨', '오피스',\n",
       "       '타짜-신의 손', '전망 좋은 방-밀애', '핑크', '코리아', '이쁜 것들이 되어라', '미스체인지',\n",
       "       '부귀영화', '은실이', '허삼관', '오월愛', '꿈보다 해몽', '마이 블랙 미니드레스', '마마 앤드 파파',\n",
       "       '전설의 주먹', '들개들', '짐승', '보라', '환타스틱 러브짐: 전쟁 같은 사랑', '캠퍼스 S 커플',\n",
       "       '한민족 그리고 조선족', '신의 한 수', '나는 야한 여자가 좋다 2', '투혼', '젊은 엄마 2', '플랜맨',\n",
       "       '미스터 고', '손님', '의궤, 8일간의 축제 3D', '나쁜 나라', '산다', '트루맛쇼',\n",
       "       '조선안방 스캔들-칠거지악', '붉은 가족', '악마를 보았다', 'U.F.O.', '중독애', '방자전',\n",
       "       '김종욱 찾기', '슬기로운 해법', '나의 불행에는 이유가 있다', '춤추는 동물원', '줄탁동시',\n",
       "       '블러디 쉐이크', '고양이: 죽음을 보는 두 개의 눈', '실론, 세렌디피티', '최후의 툰드라 - 극장판',\n",
       "       '탐정 : 더 비기닝', '60년전, 사선에서', '공정사회', '이웃사람', '여배우 공작단',\n",
       "       '광해, 왕이 된 남자', '앨리스: 원더랜드에서 온 소년', '어떤 여행, 시민창작뮤지컬', '우리는 형제입니다',\n",
       "       '순교', '네버엔딩 스토리', '연애의 온도', '연가시', '미쓰GO', '그 사람 추기경', '엄마에게',\n",
       "       '뷰티풀 차일드', '감시자들', '성난 변호사', '스파이 파파', '웨딩드레스', '수상한 그녀', '황해',\n",
       "       '나의 사랑 나의 신부', '피해자들', '차이나 블루', '려수', '나인뮤지스; 그녀들의 서바이벌', '데드 엔드',\n",
       "       '인 허 플레이스', '끝까지 간다', '뷰티 인사이드', '대호', '몽골리안 프린세스', '식객: 김치전쟁',\n",
       "       '춘하추동 로맨스', 'R2B: 리턴투베이스', '불안한 외출', '좀비스쿨', '화차', '닥터', '설국열차',\n",
       "       '쿠바의 연인', '암살', '두 여자', '한양 기방 춘향뎐', '베드', '뜨거운 안녕', '애니멀 타운',\n",
       "       '천사의 숨소리', '해적: 바다로 간 산적', '우리 선희', '내 아내의 모든 것', '모차르트 락 오페라',\n",
       "       '고양이 춤', '도약선생', '서울연애', '마담 뺑덕', '푸른소금', '윤희', '고스톱 살인', '서부전선',\n",
       "       '깡철이', '577 프로젝트', '보호자', '더 웹툰: 예고살인', '스타: 빛나는 사랑',\n",
       "       '화이트: 저주의 멜로디', '옥희의 영화', '코인라커', '반드시 크게 들을 것', '고스트 메신저 극장판',\n",
       "       '그놈이다', '귀', '맛있는 덫-정사', '7번방의 선물', '꿈은 이루어진다', '남자사용설명서',\n",
       "       '홈 스위트 홈', '밀양 아리랑', '조선마술사', '스파이', '터널 3D', '마이 보이',\n",
       "       '구르믈 버서난 달처럼', '헤드', '어이그 저 귓것', '감금의 시간', '협녀, 칼의 기억',\n",
       "       '꼭 껴안고 눈물 핑', '남쪽으로 간다', '설마 그럴리가 없어', '제보자', '5백만불의 사나이',\n",
       "       '맛있는 택배', '두만강', '명량: 회오리 바다를 향하여', '자칼이 온다', '미라클 여행기', '위험한 섹스',\n",
       "       '듀엣', '채식주의자', '목숨', '나나나 : 여배우 민낯 프로젝트', '특종: 량첸살인기', '폐가',\n",
       "       '숨바꼭질', '이파네마 소년', '웨딩스캔들', '사요나라 이츠카', '도쿄 택시', '전국노래자랑',\n",
       "       '술에 대하여 - 극장판', '공범', '네모난원', '소리굽쇠', '뫼비우스', '천 번을 불러도',\n",
       "       '1999, 면회', '사랑을 말하다', '분홍돌고래', '점쟁이들', '망원동 인공위성',\n",
       "       '메밀꽃, 운수 좋은 날, 그리고 봄봄', '지옥화', '정글히어로', '자가당착: 시대정신과 현실참여',\n",
       "       '뽀로로 극장판 컴퓨터 왕국 대모험', '창수', '페스티발', '후쿠시마의 미래', '청야', '서유기 리턴즈',\n",
       "       '하울링', '상의원', '짐승의 끝', '아티스트 봉만대', '차이나타운', '낭만파 남편의 편지',\n",
       "       '오빠가 돌아왔다', '해무', '파파로티', '살인의 강', '악의 연대기', '베를린'], dtype=object)"
      ]
     },
     "execution_count": 39,
     "metadata": {},
     "output_type": "execute_result"
    }
   ],
   "source": [
    "df_train['title'].unique()"
   ]
  },
  {
   "cell_type": "code",
   "execution_count": 38,
   "metadata": {},
   "outputs": [
    {
     "data": {
      "text/plain": [
       "600"
      ]
     },
     "execution_count": 38,
     "metadata": {},
     "output_type": "execute_result"
    }
   ],
   "source": [
    "len(df_train['title'].unique())"
   ]
  },
  {
   "cell_type": "markdown",
   "metadata": {},
   "source": [
    "> 영화 제목은 600개 데이터 포인트가 모두 달라서 drop해야 할 것 같다. 단, 제목에 포함된 단어만으로 그룹핑을 하거나 제목의 길이에 따른 관객 수 차이가 있는지?"
   ]
  },
  {
   "cell_type": "code",
   "execution_count": null,
   "metadata": {},
   "outputs": [],
   "source": []
  },
  {
   "cell_type": "markdown",
   "metadata": {},
   "source": [
    "### distributor\n",
    "- 배급사"
   ]
  },
  {
   "cell_type": "code",
   "execution_count": null,
   "metadata": {},
   "outputs": [],
   "source": []
  },
  {
   "cell_type": "markdown",
   "metadata": {},
   "source": [
    "### genre\n",
    "- 장르"
   ]
  },
  {
   "cell_type": "code",
   "execution_count": null,
   "metadata": {},
   "outputs": [],
   "source": []
  },
  {
   "cell_type": "markdown",
   "metadata": {},
   "source": [
    "### release_time\n",
    "- 개봉일"
   ]
  },
  {
   "cell_type": "code",
   "execution_count": null,
   "metadata": {},
   "outputs": [],
   "source": []
  },
  {
   "cell_type": "markdown",
   "metadata": {},
   "source": [
    "### time\n",
    "- 상영시간 (분)"
   ]
  },
  {
   "cell_type": "code",
   "execution_count": null,
   "metadata": {},
   "outputs": [],
   "source": []
  },
  {
   "cell_type": "markdown",
   "metadata": {},
   "source": [
    "### screening_rat\n",
    "- 상영등급"
   ]
  },
  {
   "cell_type": "code",
   "execution_count": null,
   "metadata": {},
   "outputs": [],
   "source": []
  },
  {
   "cell_type": "markdown",
   "metadata": {},
   "source": [
    "### director\n",
    "- 감독 이름"
   ]
  },
  {
   "cell_type": "code",
   "execution_count": null,
   "metadata": {},
   "outputs": [],
   "source": []
  },
  {
   "cell_type": "markdown",
   "metadata": {},
   "source": [
    "### dir_prev_bfnum\n",
    "- 해당 감독이 이 영화를 만들기 전 제작에 참여한 영화에서의 평균 관객수 (단 관객수가 알려지지 않은 영화 제외)"
   ]
  },
  {
   "cell_type": "code",
   "execution_count": null,
   "metadata": {},
   "outputs": [],
   "source": []
  },
  {
   "cell_type": "markdown",
   "metadata": {},
   "source": [
    "### dir_prev_num\n",
    "- 해당 감독이 이 영화를 만들기 전 제작에 참여한 영화의 개수 (단 관객수가 알려지지 않은 영화 제외)"
   ]
  },
  {
   "cell_type": "code",
   "execution_count": null,
   "metadata": {},
   "outputs": [],
   "source": []
  },
  {
   "cell_type": "markdown",
   "metadata": {},
   "source": [
    "### num_staff\n",
    "- 스태프 수"
   ]
  },
  {
   "cell_type": "code",
   "execution_count": null,
   "metadata": {},
   "outputs": [],
   "source": []
  },
  {
   "cell_type": "markdown",
   "metadata": {},
   "source": [
    "### num_actor\n",
    "- 주연 배우 수"
   ]
  },
  {
   "cell_type": "code",
   "execution_count": null,
   "metadata": {},
   "outputs": [],
   "source": []
  },
  {
   "cell_type": "markdown",
   "metadata": {},
   "source": [
    "### box_off_num\n",
    "- Label, 관객 수"
   ]
  },
  {
   "cell_type": "code",
   "execution_count": null,
   "metadata": {},
   "outputs": [],
   "source": []
  },
  {
   "cell_type": "code",
   "execution_count": null,
   "metadata": {},
   "outputs": [],
   "source": []
  },
  {
   "cell_type": "markdown",
   "metadata": {},
   "source": [
    "### 상관 분석"
   ]
  },
  {
   "cell_type": "code",
   "execution_count": null,
   "metadata": {},
   "outputs": [],
   "source": []
  },
  {
   "cell_type": "markdown",
   "metadata": {},
   "source": [
    "# Preprocessing"
   ]
  },
  {
   "cell_type": "markdown",
   "metadata": {},
   "source": [
    "### Missing Values"
   ]
  },
  {
   "cell_type": "markdown",
   "metadata": {},
   "source": [
    "### One Hot Encoding"
   ]
  },
  {
   "cell_type": "code",
   "execution_count": null,
   "metadata": {},
   "outputs": [],
   "source": []
  },
  {
   "cell_type": "code",
   "execution_count": null,
   "metadata": {},
   "outputs": [],
   "source": []
  },
  {
   "cell_type": "code",
   "execution_count": null,
   "metadata": {},
   "outputs": [],
   "source": []
  },
  {
   "cell_type": "markdown",
   "metadata": {},
   "source": [
    "# Modeling"
   ]
  },
  {
   "cell_type": "code",
   "execution_count": null,
   "metadata": {},
   "outputs": [],
   "source": []
  },
  {
   "cell_type": "markdown",
   "metadata": {},
   "source": [
    "# Prediction"
   ]
  },
  {
   "cell_type": "code",
   "execution_count": null,
   "metadata": {},
   "outputs": [],
   "source": [
    "prediction = model.predict(test)"
   ]
  },
  {
   "cell_type": "code",
   "execution_count": null,
   "metadata": {},
   "outputs": [],
   "source": [
    "# score"
   ]
  },
  {
   "cell_type": "markdown",
   "metadata": {},
   "source": [
    "# Submission"
   ]
  },
  {
   "cell_type": "code",
   "execution_count": 8,
   "metadata": {},
   "outputs": [
    {
     "data": {
      "text/html": [
       "<div>\n",
       "<style scoped>\n",
       "    .dataframe tbody tr th:only-of-type {\n",
       "        vertical-align: middle;\n",
       "    }\n",
       "\n",
       "    .dataframe tbody tr th {\n",
       "        vertical-align: top;\n",
       "    }\n",
       "\n",
       "    .dataframe thead th {\n",
       "        text-align: right;\n",
       "    }\n",
       "</style>\n",
       "<table border=\"1\" class=\"dataframe\">\n",
       "  <thead>\n",
       "    <tr style=\"text-align: right;\">\n",
       "      <th></th>\n",
       "      <th>title</th>\n",
       "      <th>box_off_num</th>\n",
       "    </tr>\n",
       "  </thead>\n",
       "  <tbody>\n",
       "    <tr>\n",
       "      <th>0</th>\n",
       "      <td>용서는 없다</td>\n",
       "      <td>0</td>\n",
       "    </tr>\n",
       "    <tr>\n",
       "      <th>1</th>\n",
       "      <td>아빠가 여자를 좋아해</td>\n",
       "      <td>0</td>\n",
       "    </tr>\n",
       "    <tr>\n",
       "      <th>2</th>\n",
       "      <td>하모니</td>\n",
       "      <td>0</td>\n",
       "    </tr>\n",
       "    <tr>\n",
       "      <th>3</th>\n",
       "      <td>의형제</td>\n",
       "      <td>0</td>\n",
       "    </tr>\n",
       "    <tr>\n",
       "      <th>4</th>\n",
       "      <td>평행 이론</td>\n",
       "      <td>0</td>\n",
       "    </tr>\n",
       "    <tr>\n",
       "      <th>...</th>\n",
       "      <td>...</td>\n",
       "      <td>...</td>\n",
       "    </tr>\n",
       "    <tr>\n",
       "      <th>238</th>\n",
       "      <td>해에게서 소년에게</td>\n",
       "      <td>0</td>\n",
       "    </tr>\n",
       "    <tr>\n",
       "      <th>239</th>\n",
       "      <td>울보 권투부</td>\n",
       "      <td>0</td>\n",
       "    </tr>\n",
       "    <tr>\n",
       "      <th>240</th>\n",
       "      <td>어떤살인</td>\n",
       "      <td>0</td>\n",
       "    </tr>\n",
       "    <tr>\n",
       "      <th>241</th>\n",
       "      <td>말하지 못한 비밀</td>\n",
       "      <td>0</td>\n",
       "    </tr>\n",
       "    <tr>\n",
       "      <th>242</th>\n",
       "      <td>조선안방 스캔들-칠거지악 2</td>\n",
       "      <td>0</td>\n",
       "    </tr>\n",
       "  </tbody>\n",
       "</table>\n",
       "<p>243 rows × 2 columns</p>\n",
       "</div>"
      ],
      "text/plain": [
       "               title  box_off_num\n",
       "0             용서는 없다            0\n",
       "1        아빠가 여자를 좋아해            0\n",
       "2                하모니            0\n",
       "3                의형제            0\n",
       "4              평행 이론            0\n",
       "..               ...          ...\n",
       "238        해에게서 소년에게            0\n",
       "239           울보 권투부            0\n",
       "240             어떤살인            0\n",
       "241        말하지 못한 비밀            0\n",
       "242  조선안방 스캔들-칠거지악 2            0\n",
       "\n",
       "[243 rows x 2 columns]"
      ]
     },
     "execution_count": 8,
     "metadata": {},
     "output_type": "execute_result"
    }
   ],
   "source": [
    "submission = pd.read_csv('data/submission.csv')\n",
    "submission"
   ]
  },
  {
   "cell_type": "code",
   "execution_count": 11,
   "metadata": {},
   "outputs": [],
   "source": [
    "# submission['box_off_num'] = prediction\n",
    "# submission"
   ]
  },
  {
   "cell_type": "code",
   "execution_count": 25,
   "metadata": {},
   "outputs": [
    {
     "data": {
      "text/plain": [
       "'20221221'"
      ]
     },
     "execution_count": 25,
     "metadata": {},
     "output_type": "execute_result"
    }
   ],
   "source": [
    "# timestr = time.strftime(\"%Y%m%d\")"
   ]
  },
  {
   "cell_type": "code",
   "execution_count": 10,
   "metadata": {},
   "outputs": [],
   "source": [
    "# submission.to_csv('.csv',index = False)"
   ]
  },
  {
   "cell_type": "code",
   "execution_count": null,
   "metadata": {},
   "outputs": [],
   "source": []
  }
 ],
 "metadata": {
  "kernelspec": {
   "display_name": "Python 3",
   "language": "python",
   "name": "python3"
  },
  "language_info": {
   "codemirror_mode": {
    "name": "ipython",
    "version": 3
   },
   "file_extension": ".py",
   "mimetype": "text/x-python",
   "name": "python",
   "nbconvert_exporter": "python",
   "pygments_lexer": "ipython3",
   "version": "3.7.4"
  }
 },
 "nbformat": 4,
 "nbformat_minor": 4
}
