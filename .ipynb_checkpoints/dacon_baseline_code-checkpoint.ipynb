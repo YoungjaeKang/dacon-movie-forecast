{
 "cells": [
  {
   "cell_type": "code",
   "execution_count": 1,
   "id": "a44115b2",
   "metadata": {
    "ExecuteTime": {
     "end_time": "2023-01-14T02:49:11.991887Z",
     "start_time": "2023-01-14T02:49:06.245574Z"
    }
   },
   "outputs": [],
   "source": [
    "import pandas as pd\n",
    "from sklearn.ensemble import RandomForestRegressor\n",
    "\n",
    "train = pd.read_csv('data/movies_train.csv')\n",
    "test = pd.read_csv('data/movies_test.csv')"
   ]
  },
  {
   "cell_type": "code",
   "execution_count": 2,
   "id": "cfcfd1a1",
   "metadata": {
    "ExecuteTime": {
     "end_time": "2023-01-14T02:58:39.601765Z",
     "start_time": "2023-01-14T02:58:39.572338Z"
    }
   },
   "outputs": [
    {
     "data": {
      "text/plain": [
       "CJ 엔터테인먼트        54\n",
       "롯데엔터테인먼트         52\n",
       "(주)NEW           30\n",
       "(주)마운틴픽쳐스        29\n",
       "(주)쇼박스           26\n",
       "                 ..\n",
       "OAL(올)            1\n",
       "(주)에이원 엔터테인먼트     1\n",
       "(주)콘텐츠 윙          1\n",
       "위더스필름             1\n",
       "퍼스트런              1\n",
       "Name: distributor, Length: 169, dtype: int64"
      ]
     },
     "execution_count": 2,
     "metadata": {},
     "output_type": "execute_result"
    }
   ],
   "source": [
    "# 결측치가 많은 데이터 제거\n",
    "train = train.drop(['dir_prev_bfnum'],axis = 1)\n",
    "test =  test.drop(['dir_prev_bfnum'],axis = 1)\n",
    "\n",
    "# 감독명 : 너무 다양해서 제거\n",
    "train = train.drop(['director'],axis = 1)\n",
    "test = test.drop(['director'],axis = 1)\n",
    "\n",
    "# 제목 : 의미가 없기 때문에 제거\n",
    "train = train.drop(['title'],axis= 1)\n",
    "test = test.drop(['title'],axis= 1)"
   ]
  },
  {
   "cell_type": "code",
   "execution_count": null,
   "id": "79b6610f",
   "metadata": {},
   "outputs": [],
   "source": [
    "train.distributor.value_counts()"
   ]
  },
  {
   "cell_type": "code",
   "execution_count": 3,
   "id": "37d8bfcc",
   "metadata": {
    "ExecuteTime": {
     "end_time": "2023-01-14T02:58:59.525290Z",
     "start_time": "2023-01-14T02:58:59.497728Z"
    }
   },
   "outputs": [],
   "source": [
    "# 상위 5개의 배급사를 제외하고 '기타'로처리\n",
    "distributor_list = train.distributor.value_counts()[:5]\n",
    "def func(distributor):\n",
    "    if distributor in distributor_list:\n",
    "        return distributor\n",
    "    else:\n",
    "        return '기타'\n",
    "\n",
    "train['distributor'] = train['distributor'].apply(lambda x : func(x))\n",
    "test['distributor'] = test['distributor'].apply(lambda x : func(x))\n",
    "\n",
    "# 개봉일을 바탕으로 년,월 변수 생성\n",
    "train['년'] = train['release_time'].apply(lambda x: int(x[:4]))\n",
    "train['월'] = train['release_time'].apply(lambda x: int(x[5:7]))\n",
    "train =  train.drop(['release_time'],axis = 1)\n",
    "\n",
    "test['년'] = test['release_time'].apply(lambda x: int(x[:4]))\n",
    "test['월'] = test['release_time'].apply(lambda x: int(x[5:7]))\n",
    "test =  test.drop(['release_time'],axis = 1)\n",
    "\n",
    "# 원핫 인코딩\n",
    "train = pd.get_dummies(train)\n",
    "test = pd.get_dummies(test)"
   ]
  },
  {
   "cell_type": "code",
   "execution_count": null,
   "id": "3dd52c81",
   "metadata": {},
   "outputs": [],
   "source": []
  },
  {
   "cell_type": "code",
   "execution_count": null,
   "id": "d8dfba3d",
   "metadata": {},
   "outputs": [],
   "source": []
  },
  {
   "cell_type": "code",
   "execution_count": null,
   "id": "5141c157",
   "metadata": {},
   "outputs": [],
   "source": []
  }
 ],
 "metadata": {
  "hide_input": false,
  "kernelspec": {
   "display_name": "Python 3 (ipykernel)",
   "language": "python",
   "name": "python3"
  },
  "language_info": {
   "codemirror_mode": {
    "name": "ipython",
    "version": 3
   },
   "file_extension": ".py",
   "mimetype": "text/x-python",
   "name": "python",
   "nbconvert_exporter": "python",
   "pygments_lexer": "ipython3",
   "version": "3.9.13"
  },
  "toc": {
   "base_numbering": 1,
   "nav_menu": {},
   "number_sections": true,
   "sideBar": true,
   "skip_h1_title": false,
   "title_cell": "Table of Contents",
   "title_sidebar": "Contents",
   "toc_cell": false,
   "toc_position": {},
   "toc_section_display": true,
   "toc_window_display": false
  },
  "varInspector": {
   "cols": {
    "lenName": 16,
    "lenType": 16,
    "lenVar": 40
   },
   "kernels_config": {
    "python": {
     "delete_cmd_postfix": "",
     "delete_cmd_prefix": "del ",
     "library": "var_list.py",
     "varRefreshCmd": "print(var_dic_list())"
    },
    "r": {
     "delete_cmd_postfix": ") ",
     "delete_cmd_prefix": "rm(",
     "library": "var_list.r",
     "varRefreshCmd": "cat(var_dic_list()) "
    }
   },
   "types_to_exclude": [
    "module",
    "function",
    "builtin_function_or_method",
    "instance",
    "_Feature"
   ],
   "window_display": false
  }
 },
 "nbformat": 4,
 "nbformat_minor": 5
}
