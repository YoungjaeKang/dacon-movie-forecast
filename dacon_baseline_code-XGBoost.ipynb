{
 "cells": [
  {
   "cell_type": "code",
   "execution_count": 23,
   "id": "d5d1a7b0",
   "metadata": {
    "ExecuteTime": {
     "end_time": "2023-01-15T14:33:33.448283Z",
     "start_time": "2023-01-15T14:33:33.426754Z"
    }
   },
   "outputs": [],
   "source": [
    "import pandas as pd\n",
    "from sklearn.ensemble import RandomForestRegressor\n",
    "\n",
    "train = pd.read_csv('data/movies_train.csv')\n",
    "test = pd.read_csv('data/movies_test.csv')"
   ]
  },
  {
   "cell_type": "code",
   "execution_count": 24,
   "id": "d0011c3b",
   "metadata": {
    "ExecuteTime": {
     "end_time": "2023-01-15T14:33:34.540009Z",
     "start_time": "2023-01-15T14:33:34.529990Z"
    }
   },
   "outputs": [],
   "source": [
    "# 결측치가 많은 데이터 제거\n",
    "train = train.drop(['dir_prev_bfnum'],axis = 1)\n",
    "test =  test.drop(['dir_prev_bfnum'],axis = 1)\n",
    "\n",
    "# 감독명 : 너무 다양해서 제거\n",
    "train = train.drop(['director'],axis = 1)\n",
    "test = test.drop(['director'],axis = 1)\n",
    "\n",
    "# 제목 : 의미가 없기 때문에 제거\n",
    "train = train.drop(['title'],axis= 1)\n",
    "test = test.drop(['title'],axis= 1)"
   ]
  },
  {
   "cell_type": "code",
   "execution_count": 25,
   "id": "d20f137a",
   "metadata": {
    "ExecuteTime": {
     "end_time": "2023-01-15T14:33:36.247707Z",
     "start_time": "2023-01-15T14:33:36.240066Z"
    }
   },
   "outputs": [
    {
     "data": {
      "text/plain": [
       "CJ 엔터테인먼트        54\n",
       "롯데엔터테인먼트         52\n",
       "(주)NEW           30\n",
       "(주)마운틴픽쳐스        29\n",
       "(주)쇼박스           26\n",
       "                 ..\n",
       "OAL(올)            1\n",
       "(주)에이원 엔터테인먼트     1\n",
       "(주)콘텐츠 윙          1\n",
       "위더스필름             1\n",
       "퍼스트런              1\n",
       "Name: distributor, Length: 169, dtype: int64"
      ]
     },
     "execution_count": 25,
     "metadata": {},
     "output_type": "execute_result"
    }
   ],
   "source": [
    "train.distributor.value_counts()"
   ]
  },
  {
   "cell_type": "code",
   "execution_count": 26,
   "id": "b8a9d779",
   "metadata": {
    "ExecuteTime": {
     "end_time": "2023-01-15T14:33:37.439671Z",
     "start_time": "2023-01-15T14:33:37.420758Z"
    }
   },
   "outputs": [],
   "source": [
    "# 상위 5개의 배급사를 제외하고 '기타'로처리\n",
    "distributor_list = train.distributor.value_counts()[:5]\n",
    "def func(distributor):\n",
    "    if distributor in distributor_list:\n",
    "        return distributor\n",
    "    else:\n",
    "        return '기타'\n",
    "\n",
    "train['distributor'] = train['distributor'].apply(lambda x : func(x))\n",
    "test['distributor'] = test['distributor'].apply(lambda x : func(x))\n",
    "\n",
    "# 개봉일을 바탕으로 년,월 변수 생성\n",
    "train['년'] = train['release_time'].apply(lambda x: int(x[:4]))\n",
    "train['월'] = train['release_time'].apply(lambda x: int(x[5:7]))\n",
    "train =  train.drop(['release_time'],axis = 1)\n",
    "\n",
    "test['년'] = test['release_time'].apply(lambda x: int(x[:4]))\n",
    "test['월'] = test['release_time'].apply(lambda x: int(x[5:7]))\n",
    "test =  test.drop(['release_time'],axis = 1)\n"
   ]
  },
  {
   "cell_type": "code",
   "execution_count": 27,
   "id": "9d0610fc",
   "metadata": {
    "ExecuteTime": {
     "end_time": "2023-01-15T14:33:38.536293Z",
     "start_time": "2023-01-15T14:33:38.531601Z"
    }
   },
   "outputs": [
    {
     "data": {
      "text/plain": [
       "((600, 10), (243, 9))"
      ]
     },
     "execution_count": 27,
     "metadata": {},
     "output_type": "execute_result"
    }
   ],
   "source": [
    "train.shape, test.shape"
   ]
  },
  {
   "cell_type": "code",
   "execution_count": 28,
   "id": "f0ac717e",
   "metadata": {
    "ExecuteTime": {
     "end_time": "2023-01-15T14:33:46.150588Z",
     "start_time": "2023-01-15T14:33:46.144502Z"
    }
   },
   "outputs": [
    {
     "data": {
      "text/plain": [
       "Index(['distributor', 'genre', 'time', 'screening_rat', 'dir_prev_num',\n",
       "       'num_staff', 'num_actor', 'box_off_num', '년', '월'],\n",
       "      dtype='object')"
      ]
     },
     "execution_count": 28,
     "metadata": {},
     "output_type": "execute_result"
    }
   ],
   "source": [
    "train.columns"
   ]
  },
  {
   "cell_type": "code",
   "execution_count": 29,
   "id": "6158719e",
   "metadata": {},
   "outputs": [],
   "source": [
    "# 원핫 인코딩\n",
    "train = pd.get_dummies(train)\n",
    "test = pd.get_dummies(test)"
   ]
  },
  {
   "cell_type": "markdown",
   "id": "71e60977",
   "metadata": {},
   "source": [
    "### 모델정의 및 학습"
   ]
  },
  {
   "cell_type": "code",
   "execution_count": 30,
   "id": "ca544951",
   "metadata": {},
   "outputs": [],
   "source": [
    "from xgboost import XGBRegressor\n",
    "\n",
    "from sklearn.metrics import mean_squared_error\n",
    "from sklearn.metrics import accuracy_score\n",
    "from sklearn.model_selection import cross_val_score"
   ]
  },
  {
   "cell_type": "code",
   "execution_count": 40,
   "id": "a1ee0ed0",
   "metadata": {
    "ExecuteTime": {
     "end_time": "2023-01-15T01:03:42.094840Z",
     "start_time": "2023-01-15T01:03:41.869932Z"
    }
   },
   "outputs": [],
   "source": [
    "X = train.drop(['box_off_num'],axis= 1)\n",
    "y = train['box_off_num']\n",
    "\n",
    "xgb = XGBRegressor(\n",
    "            n_estimators=50, ## 붓스트랩 샘플 개수 또는 base_estimator 개수\n",
    "            max_depth=5, ## 개별 나무의 최대 깊이\n",
    "            gamma = 0, ## gamma\n",
    "            importance_type='gain', ## gain, weight, cover, total_gain, total_cover\n",
    "            reg_lambda = 1, ## tuning parameter of l2 penalty\n",
    "            random_state=100\n",
    "        ).fit(X,y)\n",
    "\n",
    "# model=RandomForestRegressor(n_estimators=100)\n",
    "# model.fit(train_x,train_y)"
   ]
  },
  {
   "cell_type": "code",
   "execution_count": 41,
   "id": "0d8b4c90",
   "metadata": {
    "ExecuteTime": {
     "end_time": "2023-01-15T14:33:01.118356Z",
     "start_time": "2023-01-15T14:33:01.094863Z"
    }
   },
   "outputs": [
    {
     "data": {
      "text/plain": [
       "0.9926873688700143"
      ]
     },
     "execution_count": 41,
     "metadata": {},
     "output_type": "execute_result"
    }
   ],
   "source": [
    "xgb.score(train_x, train_y)"
   ]
  },
  {
   "cell_type": "code",
   "execution_count": 42,
   "id": "33e3bae3",
   "metadata": {},
   "outputs": [],
   "source": [
    "scores = cross_val_score(xgb, X, y, scoring='neg_mean_squared_error', cv=5)"
   ]
  },
  {
   "cell_type": "code",
   "execution_count": 43,
   "id": "98b1d40e",
   "metadata": {},
   "outputs": [
    {
     "name": "stdout",
     "output_type": "stream",
     "text": [
      "RMSE: [1285976.849 1555339.49  1097762.498 1880503.741 1799421.345]\n",
      "RMSE average: 1523800.785\n"
     ]
    }
   ],
   "source": [
    "rmse = np.sqrt(-scores)\n",
    "print('RMSE:', np.round(rmse, 3))\n",
    "print('RMSE average: %0.3f' % (rmse.mean()))"
   ]
  },
  {
   "cell_type": "code",
   "execution_count": 35,
   "id": "bbeac176",
   "metadata": {},
   "outputs": [
    {
     "name": "stdout",
     "output_type": "stream",
     "text": [
      "[ 250470.72 6746486.   6842887.  ]\n",
      "\n",
      "R2 :  0.9926873688700143\n",
      "\n",
      "time : 0.053216077387332916\n",
      "dir_prev_num : 0.01993298903107643\n",
      "num_staff : 0.08557137101888657\n",
      "num_actor : 0.04364875704050064\n",
      "년 : 0.05215051397681236\n",
      "월 : 0.03509257733821869\n",
      "distributor_(주)NEW : 0.02228069305419922\n",
      "distributor_(주)마운틴픽쳐스 : 0.002397670643404126\n",
      "distributor_(주)쇼박스 : 0.017099568620324135\n",
      "distributor_CJ 엔터테인먼트 : 0.02042986825108528\n",
      "distributor_기타 : 0.1295885294675827\n",
      "distributor_롯데엔터테인먼트 : 0.06871483474969864\n",
      "genre_SF : 0.11321604996919632\n",
      "genre_공포 : 0.004631992895156145\n",
      "genre_느와르 : 0.025184890255331993\n",
      "genre_다큐멘터리 : 0.0\n",
      "genre_드라마 : 0.05169403553009033\n",
      "genre_멜로/로맨스 : 0.006850250996649265\n",
      "genre_뮤지컬 : 0.0\n",
      "genre_미스터리 : 0.027246885001659393\n",
      "genre_서스펜스 : 0.0\n",
      "genre_애니메이션 : 0.0018154374556615949\n",
      "genre_액션 : 0.03886017948389053\n",
      "genre_코미디 : 0.014455589465796947\n",
      "screening_rat_12세 관람가 : 0.020762668922543526\n",
      "screening_rat_15세 관람가 : 0.1273520588874817\n",
      "screening_rat_전체 관람가 : 0.002236901083961129\n",
      "screening_rat_청소년 관람불가 : 0.015569603070616722\n"
     ]
    }
   ],
   "source": [
    "## 예측\n",
    "print(xgb.predict(X)[:3]) \n",
    "print()\n",
    "## 성능 평가\n",
    "print('R2 : ', xgb.score(X,y)) ## 테스트 성능 평가 점수(Accuracy)\n",
    "print()\n",
    "## 변수 중요도\n",
    "for i, feature in enumerate(test.columns):\n",
    "    print(f'{feature} : {xgb.feature_importances_[i]}')"
   ]
  },
  {
   "cell_type": "code",
   "execution_count": 11,
   "id": "977c0f59",
   "metadata": {
    "ExecuteTime": {
     "end_time": "2023-01-15T13:55:41.429810Z",
     "start_time": "2023-01-15T13:55:41.420413Z"
    }
   },
   "outputs": [
    {
     "data": {
      "text/plain": [
       "(600,)"
      ]
     },
     "execution_count": 11,
     "metadata": {},
     "output_type": "execute_result"
    }
   ],
   "source": [
    "y.shape"
   ]
  },
  {
   "cell_type": "code",
   "execution_count": 12,
   "id": "abb7e465",
   "metadata": {
    "ExecuteTime": {
     "end_time": "2023-01-15T13:55:45.321763Z",
     "start_time": "2023-01-15T13:55:45.316956Z"
    }
   },
   "outputs": [
    {
     "data": {
      "text/plain": [
       "(243, 28)"
      ]
     },
     "execution_count": 12,
     "metadata": {},
     "output_type": "execute_result"
    }
   ],
   "source": [
    "test.shape"
   ]
  },
  {
   "cell_type": "markdown",
   "id": "aeaf8e38",
   "metadata": {},
   "source": [
    "### 학습 된 모델로 예측 데이터 생성\n"
   ]
  },
  {
   "cell_type": "code",
   "execution_count": 13,
   "id": "fa9024dc",
   "metadata": {
    "ExecuteTime": {
     "end_time": "2023-01-15T01:04:46.405626Z",
     "start_time": "2023-01-15T01:04:46.384949Z"
    }
   },
   "outputs": [],
   "source": [
    "pred = xgb.predict(test)"
   ]
  },
  {
   "cell_type": "markdown",
   "id": "b977dd34",
   "metadata": {},
   "source": [
    "### 제출파일 생성"
   ]
  },
  {
   "cell_type": "code",
   "execution_count": 14,
   "id": "7cf2e8c4",
   "metadata": {
    "ExecuteTime": {
     "end_time": "2023-01-15T01:05:12.536421Z",
     "start_time": "2023-01-15T01:05:12.511360Z"
    }
   },
   "outputs": [
    {
     "data": {
      "text/html": [
       "<div>\n",
       "<style scoped>\n",
       "    .dataframe tbody tr th:only-of-type {\n",
       "        vertical-align: middle;\n",
       "    }\n",
       "\n",
       "    .dataframe tbody tr th {\n",
       "        vertical-align: top;\n",
       "    }\n",
       "\n",
       "    .dataframe thead th {\n",
       "        text-align: right;\n",
       "    }\n",
       "</style>\n",
       "<table border=\"1\" class=\"dataframe\">\n",
       "  <thead>\n",
       "    <tr style=\"text-align: right;\">\n",
       "      <th></th>\n",
       "      <th>title</th>\n",
       "      <th>box_off_num</th>\n",
       "    </tr>\n",
       "  </thead>\n",
       "  <tbody>\n",
       "    <tr>\n",
       "      <th>0</th>\n",
       "      <td>용서는 없다</td>\n",
       "      <td>0</td>\n",
       "    </tr>\n",
       "    <tr>\n",
       "      <th>1</th>\n",
       "      <td>아빠가 여자를 좋아해</td>\n",
       "      <td>0</td>\n",
       "    </tr>\n",
       "    <tr>\n",
       "      <th>2</th>\n",
       "      <td>하모니</td>\n",
       "      <td>0</td>\n",
       "    </tr>\n",
       "    <tr>\n",
       "      <th>3</th>\n",
       "      <td>의형제</td>\n",
       "      <td>0</td>\n",
       "    </tr>\n",
       "    <tr>\n",
       "      <th>4</th>\n",
       "      <td>평행 이론</td>\n",
       "      <td>0</td>\n",
       "    </tr>\n",
       "    <tr>\n",
       "      <th>...</th>\n",
       "      <td>...</td>\n",
       "      <td>...</td>\n",
       "    </tr>\n",
       "    <tr>\n",
       "      <th>238</th>\n",
       "      <td>해에게서 소년에게</td>\n",
       "      <td>0</td>\n",
       "    </tr>\n",
       "    <tr>\n",
       "      <th>239</th>\n",
       "      <td>울보 권투부</td>\n",
       "      <td>0</td>\n",
       "    </tr>\n",
       "    <tr>\n",
       "      <th>240</th>\n",
       "      <td>어떤살인</td>\n",
       "      <td>0</td>\n",
       "    </tr>\n",
       "    <tr>\n",
       "      <th>241</th>\n",
       "      <td>말하지 못한 비밀</td>\n",
       "      <td>0</td>\n",
       "    </tr>\n",
       "    <tr>\n",
       "      <th>242</th>\n",
       "      <td>조선안방 스캔들-칠거지악 2</td>\n",
       "      <td>0</td>\n",
       "    </tr>\n",
       "  </tbody>\n",
       "</table>\n",
       "<p>243 rows × 2 columns</p>\n",
       "</div>"
      ],
      "text/plain": [
       "               title  box_off_num\n",
       "0             용서는 없다            0\n",
       "1        아빠가 여자를 좋아해            0\n",
       "2                하모니            0\n",
       "3                의형제            0\n",
       "4              평행 이론            0\n",
       "..               ...          ...\n",
       "238        해에게서 소년에게            0\n",
       "239           울보 권투부            0\n",
       "240             어떤살인            0\n",
       "241        말하지 못한 비밀            0\n",
       "242  조선안방 스캔들-칠거지악 2            0\n",
       "\n",
       "[243 rows x 2 columns]"
      ]
     },
     "execution_count": 14,
     "metadata": {},
     "output_type": "execute_result"
    }
   ],
   "source": [
    "submission = pd.read_csv('data/submission.csv')\n",
    "submission"
   ]
  },
  {
   "cell_type": "code",
   "execution_count": 15,
   "id": "ce2a8c78",
   "metadata": {
    "ExecuteTime": {
     "end_time": "2023-01-15T01:05:25.485067Z",
     "start_time": "2023-01-15T01:05:25.473413Z"
    }
   },
   "outputs": [
    {
     "data": {
      "text/html": [
       "<div>\n",
       "<style scoped>\n",
       "    .dataframe tbody tr th:only-of-type {\n",
       "        vertical-align: middle;\n",
       "    }\n",
       "\n",
       "    .dataframe tbody tr th {\n",
       "        vertical-align: top;\n",
       "    }\n",
       "\n",
       "    .dataframe thead th {\n",
       "        text-align: right;\n",
       "    }\n",
       "</style>\n",
       "<table border=\"1\" class=\"dataframe\">\n",
       "  <thead>\n",
       "    <tr style=\"text-align: right;\">\n",
       "      <th></th>\n",
       "      <th>title</th>\n",
       "      <th>box_off_num</th>\n",
       "    </tr>\n",
       "  </thead>\n",
       "  <tbody>\n",
       "    <tr>\n",
       "      <th>0</th>\n",
       "      <td>용서는 없다</td>\n",
       "      <td>3.896304e+05</td>\n",
       "    </tr>\n",
       "    <tr>\n",
       "      <th>1</th>\n",
       "      <td>아빠가 여자를 좋아해</td>\n",
       "      <td>1.943162e+06</td>\n",
       "    </tr>\n",
       "    <tr>\n",
       "      <th>2</th>\n",
       "      <td>하모니</td>\n",
       "      <td>6.579076e+05</td>\n",
       "    </tr>\n",
       "    <tr>\n",
       "      <th>3</th>\n",
       "      <td>의형제</td>\n",
       "      <td>1.296595e+06</td>\n",
       "    </tr>\n",
       "    <tr>\n",
       "      <th>4</th>\n",
       "      <td>평행 이론</td>\n",
       "      <td>1.844405e+06</td>\n",
       "    </tr>\n",
       "    <tr>\n",
       "      <th>...</th>\n",
       "      <td>...</td>\n",
       "      <td>...</td>\n",
       "    </tr>\n",
       "    <tr>\n",
       "      <th>238</th>\n",
       "      <td>해에게서 소년에게</td>\n",
       "      <td>4.263783e+04</td>\n",
       "    </tr>\n",
       "    <tr>\n",
       "      <th>239</th>\n",
       "      <td>울보 권투부</td>\n",
       "      <td>2.193333e+05</td>\n",
       "    </tr>\n",
       "    <tr>\n",
       "      <th>240</th>\n",
       "      <td>어떤살인</td>\n",
       "      <td>2.135978e+05</td>\n",
       "    </tr>\n",
       "    <tr>\n",
       "      <th>241</th>\n",
       "      <td>말하지 못한 비밀</td>\n",
       "      <td>-6.321826e+04</td>\n",
       "    </tr>\n",
       "    <tr>\n",
       "      <th>242</th>\n",
       "      <td>조선안방 스캔들-칠거지악 2</td>\n",
       "      <td>-5.638186e+04</td>\n",
       "    </tr>\n",
       "  </tbody>\n",
       "</table>\n",
       "<p>243 rows × 2 columns</p>\n",
       "</div>"
      ],
      "text/plain": [
       "               title   box_off_num\n",
       "0             용서는 없다  3.896304e+05\n",
       "1        아빠가 여자를 좋아해  1.943162e+06\n",
       "2                하모니  6.579076e+05\n",
       "3                의형제  1.296595e+06\n",
       "4              평행 이론  1.844405e+06\n",
       "..               ...           ...\n",
       "238        해에게서 소년에게  4.263783e+04\n",
       "239           울보 권투부  2.193333e+05\n",
       "240             어떤살인  2.135978e+05\n",
       "241        말하지 못한 비밀 -6.321826e+04\n",
       "242  조선안방 스캔들-칠거지악 2 -5.638186e+04\n",
       "\n",
       "[243 rows x 2 columns]"
      ]
     },
     "execution_count": 15,
     "metadata": {},
     "output_type": "execute_result"
    }
   ],
   "source": [
    "submission['box_off_num'] = pred\n",
    "submission"
   ]
  },
  {
   "cell_type": "code",
   "execution_count": 16,
   "id": "18425227",
   "metadata": {
    "ExecuteTime": {
     "end_time": "2023-01-15T01:05:50.294537Z",
     "start_time": "2023-01-15T01:05:50.285363Z"
    }
   },
   "outputs": [],
   "source": [
    "submission.to_csv('baseline_xgb.csv',index = False)"
   ]
  },
  {
   "cell_type": "code",
   "execution_count": null,
   "id": "e156609d",
   "metadata": {},
   "outputs": [],
   "source": []
  }
 ],
 "metadata": {
  "hide_input": false,
  "kernelspec": {
   "display_name": "Python 3 (ipykernel)",
   "language": "python",
   "name": "python3"
  },
  "language_info": {
   "codemirror_mode": {
    "name": "ipython",
    "version": 3
   },
   "file_extension": ".py",
   "mimetype": "text/x-python",
   "name": "python",
   "nbconvert_exporter": "python",
   "pygments_lexer": "ipython3",
   "version": "3.9.13"
  },
  "toc": {
   "base_numbering": 1,
   "nav_menu": {},
   "number_sections": true,
   "sideBar": true,
   "skip_h1_title": false,
   "title_cell": "Table of Contents",
   "title_sidebar": "Contents",
   "toc_cell": false,
   "toc_position": {},
   "toc_section_display": true,
   "toc_window_display": false
  },
  "varInspector": {
   "cols": {
    "lenName": 16,
    "lenType": 16,
    "lenVar": 40
   },
   "kernels_config": {
    "python": {
     "delete_cmd_postfix": "",
     "delete_cmd_prefix": "del ",
     "library": "var_list.py",
     "varRefreshCmd": "print(var_dic_list())"
    },
    "r": {
     "delete_cmd_postfix": ") ",
     "delete_cmd_prefix": "rm(",
     "library": "var_list.r",
     "varRefreshCmd": "cat(var_dic_list()) "
    }
   },
   "types_to_exclude": [
    "module",
    "function",
    "builtin_function_or_method",
    "instance",
    "_Feature"
   ],
   "window_display": false
  }
 },
 "nbformat": 4,
 "nbformat_minor": 5
}
